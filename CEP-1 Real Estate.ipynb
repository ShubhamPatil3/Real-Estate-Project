{
 "cells": [
  {
   "cell_type": "code",
   "execution_count": 1,
   "id": "d7cd486d",
   "metadata": {},
   "outputs": [],
   "source": [
    "import pandas as pd \n",
    "import numpy as np \n",
    "import seaborn as sns \n",
    "import matplotlib.pyplot as plt \n",
    "%matplotlib inline "
   ]
  },
  {
   "cell_type": "code",
   "execution_count": 2,
   "id": "d68e77d0",
   "metadata": {},
   "outputs": [],
   "source": [
    "# Import data."
   ]
  },
  {
   "cell_type": "code",
   "execution_count": 3,
   "id": "c38befc6",
   "metadata": {},
   "outputs": [],
   "source": [
    "train=pd.read_csv(\"train.csv\")"
   ]
  },
  {
   "cell_type": "code",
   "execution_count": 4,
   "id": "c5fa2846",
   "metadata": {},
   "outputs": [
    {
     "data": {
      "text/plain": [
       "(27321, 80)"
      ]
     },
     "execution_count": 4,
     "metadata": {},
     "output_type": "execute_result"
    }
   ],
   "source": [
    "train.shape"
   ]
  },
  {
   "cell_type": "code",
   "execution_count": 5,
   "id": "98b79e5b",
   "metadata": {},
   "outputs": [],
   "source": [
    "test=pd.read_csv(\"test.csv\")"
   ]
  },
  {
   "cell_type": "code",
   "execution_count": 6,
   "id": "88aae2b9",
   "metadata": {},
   "outputs": [
    {
     "data": {
      "text/plain": [
       "(11709, 80)"
      ]
     },
     "execution_count": 6,
     "metadata": {},
     "output_type": "execute_result"
    }
   ],
   "source": [
    "test.shape"
   ]
  },
  {
   "cell_type": "code",
   "execution_count": 7,
   "id": "af40569c",
   "metadata": {},
   "outputs": [],
   "source": [
    "df= pd.concat([train, test], axis=0)"
   ]
  },
  {
   "cell_type": "code",
   "execution_count": 8,
   "id": "9ed93ca2",
   "metadata": {},
   "outputs": [
    {
     "data": {
      "text/plain": [
       "(39030, 80)"
      ]
     },
     "execution_count": 8,
     "metadata": {},
     "output_type": "execute_result"
    }
   ],
   "source": [
    "df.shape"
   ]
  },
  {
   "cell_type": "code",
   "execution_count": 9,
   "id": "e1ea7fff",
   "metadata": {},
   "outputs": [
    {
     "data": {
      "text/plain": [
       "BLOCKID             39030\n",
       "hc_stdev              890\n",
       "hc_sample_weight      890\n",
       "hc_samples            890\n",
       "hc_mean               890\n",
       "                    ...  \n",
       "AWater                  0\n",
       "pop                     0\n",
       "male_pop                0\n",
       "female_pop              0\n",
       "UID                     0\n",
       "Length: 80, dtype: int64"
      ]
     },
     "execution_count": 9,
     "metadata": {},
     "output_type": "execute_result"
    }
   ],
   "source": [
    "df.isnull().sum().sort_values(ascending=False)"
   ]
  },
  {
   "cell_type": "code",
   "execution_count": 10,
   "id": "9e03a7cd",
   "metadata": {},
   "outputs": [
    {
     "data": {
      "text/html": [
       "<div>\n",
       "<style scoped>\n",
       "    .dataframe tbody tr th:only-of-type {\n",
       "        vertical-align: middle;\n",
       "    }\n",
       "\n",
       "    .dataframe tbody tr th {\n",
       "        vertical-align: top;\n",
       "    }\n",
       "\n",
       "    .dataframe thead th {\n",
       "        text-align: right;\n",
       "    }\n",
       "</style>\n",
       "<table border=\"1\" class=\"dataframe\">\n",
       "  <thead>\n",
       "    <tr style=\"text-align: right;\">\n",
       "      <th></th>\n",
       "      <th>UID</th>\n",
       "      <th>BLOCKID</th>\n",
       "      <th>SUMLEVEL</th>\n",
       "      <th>COUNTYID</th>\n",
       "      <th>STATEID</th>\n",
       "      <th>zip_code</th>\n",
       "      <th>area_code</th>\n",
       "      <th>lat</th>\n",
       "      <th>lng</th>\n",
       "      <th>ALand</th>\n",
       "      <th>...</th>\n",
       "      <th>female_age_mean</th>\n",
       "      <th>female_age_median</th>\n",
       "      <th>female_age_stdev</th>\n",
       "      <th>female_age_sample_weight</th>\n",
       "      <th>female_age_samples</th>\n",
       "      <th>pct_own</th>\n",
       "      <th>married</th>\n",
       "      <th>married_snp</th>\n",
       "      <th>separated</th>\n",
       "      <th>divorced</th>\n",
       "    </tr>\n",
       "  </thead>\n",
       "  <tbody>\n",
       "    <tr>\n",
       "      <th>count</th>\n",
       "      <td>39030.000000</td>\n",
       "      <td>0.0</td>\n",
       "      <td>39030.0</td>\n",
       "      <td>39030.000000</td>\n",
       "      <td>39030.000000</td>\n",
       "      <td>39030.000000</td>\n",
       "      <td>39030.000000</td>\n",
       "      <td>39030.000000</td>\n",
       "      <td>39030.000000</td>\n",
       "      <td>3.903000e+04</td>\n",
       "      <td>...</td>\n",
       "      <td>38728.000000</td>\n",
       "      <td>38728.000000</td>\n",
       "      <td>38728.000000</td>\n",
       "      <td>38728.000000</td>\n",
       "      <td>38728.000000</td>\n",
       "      <td>38640.000000</td>\n",
       "      <td>38755.000000</td>\n",
       "      <td>38755.000000</td>\n",
       "      <td>38755.000000</td>\n",
       "      <td>38755.000000</td>\n",
       "    </tr>\n",
       "    <tr>\n",
       "      <th>mean</th>\n",
       "      <td>257389.898847</td>\n",
       "      <td>NaN</td>\n",
       "      <td>140.0</td>\n",
       "      <td>85.665693</td>\n",
       "      <td>28.337023</td>\n",
       "      <td>50094.425186</td>\n",
       "      <td>595.634922</td>\n",
       "      <td>37.477816</td>\n",
       "      <td>-91.303944</td>\n",
       "      <td>1.235224e+08</td>\n",
       "      <td>...</td>\n",
       "      <td>40.257491</td>\n",
       "      <td>40.288159</td>\n",
       "      <td>22.169569</td>\n",
       "      <td>546.089414</td>\n",
       "      <td>2216.030908</td>\n",
       "      <td>0.638563</td>\n",
       "      <td>0.507500</td>\n",
       "      <td>0.047664</td>\n",
       "      <td>0.019166</td>\n",
       "      <td>0.099931</td>\n",
       "    </tr>\n",
       "    <tr>\n",
       "      <th>std</th>\n",
       "      <td>21380.595101</td>\n",
       "      <td>NaN</td>\n",
       "      <td>0.0</td>\n",
       "      <td>98.624203</td>\n",
       "      <td>16.457552</td>\n",
       "      <td>29623.012455</td>\n",
       "      <td>232.371449</td>\n",
       "      <td>5.599713</td>\n",
       "      <td>16.362850</td>\n",
       "      <td>1.146022e+09</td>\n",
       "      <td>...</td>\n",
       "      <td>5.876502</td>\n",
       "      <td>8.019936</td>\n",
       "      <td>2.544665</td>\n",
       "      <td>282.793882</td>\n",
       "      <td>1084.201488</td>\n",
       "      <td>0.228346</td>\n",
       "      <td>0.137744</td>\n",
       "      <td>0.037959</td>\n",
       "      <td>0.020988</td>\n",
       "      <td>0.048898</td>\n",
       "    </tr>\n",
       "    <tr>\n",
       "      <th>min</th>\n",
       "      <td>220336.000000</td>\n",
       "      <td>NaN</td>\n",
       "      <td>140.0</td>\n",
       "      <td>1.000000</td>\n",
       "      <td>1.000000</td>\n",
       "      <td>601.000000</td>\n",
       "      <td>201.000000</td>\n",
       "      <td>17.929085</td>\n",
       "      <td>-166.770979</td>\n",
       "      <td>8.299000e+03</td>\n",
       "      <td>...</td>\n",
       "      <td>15.360240</td>\n",
       "      <td>12.833330</td>\n",
       "      <td>0.556780</td>\n",
       "      <td>0.251910</td>\n",
       "      <td>2.000000</td>\n",
       "      <td>0.000000</td>\n",
       "      <td>0.000000</td>\n",
       "      <td>0.000000</td>\n",
       "      <td>0.000000</td>\n",
       "      <td>0.000000</td>\n",
       "    </tr>\n",
       "    <tr>\n",
       "      <th>25%</th>\n",
       "      <td>238817.250000</td>\n",
       "      <td>NaN</td>\n",
       "      <td>140.0</td>\n",
       "      <td>29.000000</td>\n",
       "      <td>13.000000</td>\n",
       "      <td>26261.000000</td>\n",
       "      <td>405.000000</td>\n",
       "      <td>33.905477</td>\n",
       "      <td>-97.816437</td>\n",
       "      <td>1.777882e+06</td>\n",
       "      <td>...</td>\n",
       "      <td>36.832685</td>\n",
       "      <td>34.833330</td>\n",
       "      <td>21.300528</td>\n",
       "      <td>357.978453</td>\n",
       "      <td>1480.000000</td>\n",
       "      <td>0.500337</td>\n",
       "      <td>0.424295</td>\n",
       "      <td>0.020840</td>\n",
       "      <td>0.004530</td>\n",
       "      <td>0.065420</td>\n",
       "    </tr>\n",
       "    <tr>\n",
       "      <th>50%</th>\n",
       "      <td>257380.500000</td>\n",
       "      <td>NaN</td>\n",
       "      <td>140.0</td>\n",
       "      <td>63.000000</td>\n",
       "      <td>28.000000</td>\n",
       "      <td>47637.500000</td>\n",
       "      <td>614.000000</td>\n",
       "      <td>38.712215</td>\n",
       "      <td>-86.587080</td>\n",
       "      <td>4.854619e+06</td>\n",
       "      <td>...</td>\n",
       "      <td>40.320550</td>\n",
       "      <td>40.500000</td>\n",
       "      <td>22.502205</td>\n",
       "      <td>504.982075</td>\n",
       "      <td>2078.000000</td>\n",
       "      <td>0.689670</td>\n",
       "      <td>0.526210</td>\n",
       "      <td>0.038790</td>\n",
       "      <td>0.013580</td>\n",
       "      <td>0.094910</td>\n",
       "    </tr>\n",
       "    <tr>\n",
       "      <th>75%</th>\n",
       "      <td>275970.750000</td>\n",
       "      <td>NaN</td>\n",
       "      <td>140.0</td>\n",
       "      <td>109.000000</td>\n",
       "      <td>42.000000</td>\n",
       "      <td>77320.000000</td>\n",
       "      <td>801.000000</td>\n",
       "      <td>41.327773</td>\n",
       "      <td>-79.764987</td>\n",
       "      <td>3.320334e+07</td>\n",
       "      <td>...</td>\n",
       "      <td>43.548502</td>\n",
       "      <td>45.333330</td>\n",
       "      <td>23.566253</td>\n",
       "      <td>682.309657</td>\n",
       "      <td>2781.000000</td>\n",
       "      <td>0.816782</td>\n",
       "      <td>0.605715</td>\n",
       "      <td>0.065180</td>\n",
       "      <td>0.027650</td>\n",
       "      <td>0.128790</td>\n",
       "    </tr>\n",
       "    <tr>\n",
       "      <th>max</th>\n",
       "      <td>294334.000000</td>\n",
       "      <td>NaN</td>\n",
       "      <td>140.0</td>\n",
       "      <td>840.000000</td>\n",
       "      <td>72.000000</td>\n",
       "      <td>99929.000000</td>\n",
       "      <td>989.000000</td>\n",
       "      <td>67.074017</td>\n",
       "      <td>-65.379332</td>\n",
       "      <td>1.039510e+11</td>\n",
       "      <td>...</td>\n",
       "      <td>90.107940</td>\n",
       "      <td>90.166670</td>\n",
       "      <td>30.241270</td>\n",
       "      <td>6197.995200</td>\n",
       "      <td>27250.000000</td>\n",
       "      <td>1.000000</td>\n",
       "      <td>1.000000</td>\n",
       "      <td>0.714290</td>\n",
       "      <td>0.714290</td>\n",
       "      <td>1.000000</td>\n",
       "    </tr>\n",
       "  </tbody>\n",
       "</table>\n",
       "<p>8 rows × 74 columns</p>\n",
       "</div>"
      ],
      "text/plain": [
       "                 UID  BLOCKID  SUMLEVEL      COUNTYID       STATEID  \\\n",
       "count   39030.000000      0.0   39030.0  39030.000000  39030.000000   \n",
       "mean   257389.898847      NaN     140.0     85.665693     28.337023   \n",
       "std     21380.595101      NaN       0.0     98.624203     16.457552   \n",
       "min    220336.000000      NaN     140.0      1.000000      1.000000   \n",
       "25%    238817.250000      NaN     140.0     29.000000     13.000000   \n",
       "50%    257380.500000      NaN     140.0     63.000000     28.000000   \n",
       "75%    275970.750000      NaN     140.0    109.000000     42.000000   \n",
       "max    294334.000000      NaN     140.0    840.000000     72.000000   \n",
       "\n",
       "           zip_code     area_code           lat           lng         ALand  \\\n",
       "count  39030.000000  39030.000000  39030.000000  39030.000000  3.903000e+04   \n",
       "mean   50094.425186    595.634922     37.477816    -91.303944  1.235224e+08   \n",
       "std    29623.012455    232.371449      5.599713     16.362850  1.146022e+09   \n",
       "min      601.000000    201.000000     17.929085   -166.770979  8.299000e+03   \n",
       "25%    26261.000000    405.000000     33.905477    -97.816437  1.777882e+06   \n",
       "50%    47637.500000    614.000000     38.712215    -86.587080  4.854619e+06   \n",
       "75%    77320.000000    801.000000     41.327773    -79.764987  3.320334e+07   \n",
       "max    99929.000000    989.000000     67.074017    -65.379332  1.039510e+11   \n",
       "\n",
       "       ...  female_age_mean  female_age_median  female_age_stdev  \\\n",
       "count  ...     38728.000000       38728.000000      38728.000000   \n",
       "mean   ...        40.257491          40.288159         22.169569   \n",
       "std    ...         5.876502           8.019936          2.544665   \n",
       "min    ...        15.360240          12.833330          0.556780   \n",
       "25%    ...        36.832685          34.833330         21.300528   \n",
       "50%    ...        40.320550          40.500000         22.502205   \n",
       "75%    ...        43.548502          45.333330         23.566253   \n",
       "max    ...        90.107940          90.166670         30.241270   \n",
       "\n",
       "       female_age_sample_weight  female_age_samples       pct_own  \\\n",
       "count              38728.000000        38728.000000  38640.000000   \n",
       "mean                 546.089414         2216.030908      0.638563   \n",
       "std                  282.793882         1084.201488      0.228346   \n",
       "min                    0.251910            2.000000      0.000000   \n",
       "25%                  357.978453         1480.000000      0.500337   \n",
       "50%                  504.982075         2078.000000      0.689670   \n",
       "75%                  682.309657         2781.000000      0.816782   \n",
       "max                 6197.995200        27250.000000      1.000000   \n",
       "\n",
       "            married   married_snp     separated      divorced  \n",
       "count  38755.000000  38755.000000  38755.000000  38755.000000  \n",
       "mean       0.507500      0.047664      0.019166      0.099931  \n",
       "std        0.137744      0.037959      0.020988      0.048898  \n",
       "min        0.000000      0.000000      0.000000      0.000000  \n",
       "25%        0.424295      0.020840      0.004530      0.065420  \n",
       "50%        0.526210      0.038790      0.013580      0.094910  \n",
       "75%        0.605715      0.065180      0.027650      0.128790  \n",
       "max        1.000000      0.714290      0.714290      1.000000  \n",
       "\n",
       "[8 rows x 74 columns]"
      ]
     },
     "execution_count": 10,
     "metadata": {},
     "output_type": "execute_result"
    }
   ],
   "source": [
    "df.describe()"
   ]
  },
  {
   "cell_type": "code",
   "execution_count": 11,
   "id": "41dc7b9b",
   "metadata": {},
   "outputs": [
    {
     "data": {
      "text/html": [
       "<div>\n",
       "<style scoped>\n",
       "    .dataframe tbody tr th:only-of-type {\n",
       "        vertical-align: middle;\n",
       "    }\n",
       "\n",
       "    .dataframe tbody tr th {\n",
       "        vertical-align: top;\n",
       "    }\n",
       "\n",
       "    .dataframe thead th {\n",
       "        text-align: right;\n",
       "    }\n",
       "</style>\n",
       "<table border=\"1\" class=\"dataframe\">\n",
       "  <thead>\n",
       "    <tr style=\"text-align: right;\">\n",
       "      <th></th>\n",
       "      <th>UID</th>\n",
       "      <th>BLOCKID</th>\n",
       "      <th>SUMLEVEL</th>\n",
       "      <th>COUNTYID</th>\n",
       "      <th>STATEID</th>\n",
       "      <th>state</th>\n",
       "      <th>state_ab</th>\n",
       "      <th>city</th>\n",
       "      <th>place</th>\n",
       "      <th>type</th>\n",
       "      <th>...</th>\n",
       "      <th>female_age_mean</th>\n",
       "      <th>female_age_median</th>\n",
       "      <th>female_age_stdev</th>\n",
       "      <th>female_age_sample_weight</th>\n",
       "      <th>female_age_samples</th>\n",
       "      <th>pct_own</th>\n",
       "      <th>married</th>\n",
       "      <th>married_snp</th>\n",
       "      <th>separated</th>\n",
       "      <th>divorced</th>\n",
       "    </tr>\n",
       "  </thead>\n",
       "  <tbody>\n",
       "    <tr>\n",
       "      <th>0</th>\n",
       "      <td>267822</td>\n",
       "      <td>NaN</td>\n",
       "      <td>140</td>\n",
       "      <td>53</td>\n",
       "      <td>36</td>\n",
       "      <td>New York</td>\n",
       "      <td>NY</td>\n",
       "      <td>Hamilton</td>\n",
       "      <td>Hamilton</td>\n",
       "      <td>City</td>\n",
       "      <td>...</td>\n",
       "      <td>44.48629</td>\n",
       "      <td>45.33333</td>\n",
       "      <td>22.51276</td>\n",
       "      <td>685.33845</td>\n",
       "      <td>2618.0</td>\n",
       "      <td>0.79046</td>\n",
       "      <td>0.57851</td>\n",
       "      <td>0.01882</td>\n",
       "      <td>0.01240</td>\n",
       "      <td>0.08770</td>\n",
       "    </tr>\n",
       "    <tr>\n",
       "      <th>1</th>\n",
       "      <td>246444</td>\n",
       "      <td>NaN</td>\n",
       "      <td>140</td>\n",
       "      <td>141</td>\n",
       "      <td>18</td>\n",
       "      <td>Indiana</td>\n",
       "      <td>IN</td>\n",
       "      <td>South Bend</td>\n",
       "      <td>Roseland</td>\n",
       "      <td>City</td>\n",
       "      <td>...</td>\n",
       "      <td>36.48391</td>\n",
       "      <td>37.58333</td>\n",
       "      <td>23.43353</td>\n",
       "      <td>267.23367</td>\n",
       "      <td>1284.0</td>\n",
       "      <td>0.52483</td>\n",
       "      <td>0.34886</td>\n",
       "      <td>0.01426</td>\n",
       "      <td>0.01426</td>\n",
       "      <td>0.09030</td>\n",
       "    </tr>\n",
       "    <tr>\n",
       "      <th>2</th>\n",
       "      <td>245683</td>\n",
       "      <td>NaN</td>\n",
       "      <td>140</td>\n",
       "      <td>63</td>\n",
       "      <td>18</td>\n",
       "      <td>Indiana</td>\n",
       "      <td>IN</td>\n",
       "      <td>Danville</td>\n",
       "      <td>Danville</td>\n",
       "      <td>City</td>\n",
       "      <td>...</td>\n",
       "      <td>42.15810</td>\n",
       "      <td>42.83333</td>\n",
       "      <td>23.94119</td>\n",
       "      <td>707.01963</td>\n",
       "      <td>3238.0</td>\n",
       "      <td>0.85331</td>\n",
       "      <td>0.64745</td>\n",
       "      <td>0.02830</td>\n",
       "      <td>0.01607</td>\n",
       "      <td>0.10657</td>\n",
       "    </tr>\n",
       "    <tr>\n",
       "      <th>3</th>\n",
       "      <td>279653</td>\n",
       "      <td>NaN</td>\n",
       "      <td>140</td>\n",
       "      <td>127</td>\n",
       "      <td>72</td>\n",
       "      <td>Puerto Rico</td>\n",
       "      <td>PR</td>\n",
       "      <td>San Juan</td>\n",
       "      <td>Guaynabo</td>\n",
       "      <td>Urban</td>\n",
       "      <td>...</td>\n",
       "      <td>47.77526</td>\n",
       "      <td>50.58333</td>\n",
       "      <td>24.32015</td>\n",
       "      <td>362.20193</td>\n",
       "      <td>1559.0</td>\n",
       "      <td>0.65037</td>\n",
       "      <td>0.47257</td>\n",
       "      <td>0.02021</td>\n",
       "      <td>0.02021</td>\n",
       "      <td>0.10106</td>\n",
       "    </tr>\n",
       "    <tr>\n",
       "      <th>4</th>\n",
       "      <td>247218</td>\n",
       "      <td>NaN</td>\n",
       "      <td>140</td>\n",
       "      <td>161</td>\n",
       "      <td>20</td>\n",
       "      <td>Kansas</td>\n",
       "      <td>KS</td>\n",
       "      <td>Manhattan</td>\n",
       "      <td>Manhattan City</td>\n",
       "      <td>City</td>\n",
       "      <td>...</td>\n",
       "      <td>24.17693</td>\n",
       "      <td>21.58333</td>\n",
       "      <td>11.10484</td>\n",
       "      <td>1854.48652</td>\n",
       "      <td>3051.0</td>\n",
       "      <td>0.13046</td>\n",
       "      <td>0.12356</td>\n",
       "      <td>0.00000</td>\n",
       "      <td>0.00000</td>\n",
       "      <td>0.03109</td>\n",
       "    </tr>\n",
       "  </tbody>\n",
       "</table>\n",
       "<p>5 rows × 80 columns</p>\n",
       "</div>"
      ],
      "text/plain": [
       "      UID  BLOCKID  SUMLEVEL  COUNTYID  STATEID        state state_ab  \\\n",
       "0  267822      NaN       140        53       36     New York       NY   \n",
       "1  246444      NaN       140       141       18      Indiana       IN   \n",
       "2  245683      NaN       140        63       18      Indiana       IN   \n",
       "3  279653      NaN       140       127       72  Puerto Rico       PR   \n",
       "4  247218      NaN       140       161       20       Kansas       KS   \n",
       "\n",
       "         city           place   type  ... female_age_mean  female_age_median  \\\n",
       "0    Hamilton        Hamilton   City  ...        44.48629           45.33333   \n",
       "1  South Bend        Roseland   City  ...        36.48391           37.58333   \n",
       "2    Danville        Danville   City  ...        42.15810           42.83333   \n",
       "3    San Juan        Guaynabo  Urban  ...        47.77526           50.58333   \n",
       "4   Manhattan  Manhattan City   City  ...        24.17693           21.58333   \n",
       "\n",
       "   female_age_stdev  female_age_sample_weight  female_age_samples  pct_own  \\\n",
       "0          22.51276                 685.33845              2618.0  0.79046   \n",
       "1          23.43353                 267.23367              1284.0  0.52483   \n",
       "2          23.94119                 707.01963              3238.0  0.85331   \n",
       "3          24.32015                 362.20193              1559.0  0.65037   \n",
       "4          11.10484                1854.48652              3051.0  0.13046   \n",
       "\n",
       "   married  married_snp  separated  divorced  \n",
       "0  0.57851      0.01882    0.01240   0.08770  \n",
       "1  0.34886      0.01426    0.01426   0.09030  \n",
       "2  0.64745      0.02830    0.01607   0.10657  \n",
       "3  0.47257      0.02021    0.02021   0.10106  \n",
       "4  0.12356      0.00000    0.00000   0.03109  \n",
       "\n",
       "[5 rows x 80 columns]"
      ]
     },
     "execution_count": 11,
     "metadata": {},
     "output_type": "execute_result"
    }
   ],
   "source": [
    "train.head()"
   ]
  },
  {
   "cell_type": "code",
   "execution_count": 12,
   "id": "cd00b425",
   "metadata": {},
   "outputs": [
    {
     "data": {
      "text/plain": [
       "BLOCKID             39030\n",
       "hc_stdev              890\n",
       "hc_sample_weight      890\n",
       "hc_samples            890\n",
       "hc_mean               890\n",
       "                    ...  \n",
       "AWater                  0\n",
       "pop                     0\n",
       "male_pop                0\n",
       "female_pop              0\n",
       "UID                     0\n",
       "Length: 80, dtype: int64"
      ]
     },
     "execution_count": 12,
     "metadata": {},
     "output_type": "execute_result"
    }
   ],
   "source": [
    "df.isnull().sum().sort_values(ascending=False)"
   ]
  },
  {
   "cell_type": "code",
   "execution_count": 13,
   "id": "0ec134c9",
   "metadata": {},
   "outputs": [
    {
     "data": {
      "text/plain": [
       "390"
      ]
     },
     "execution_count": 13,
     "metadata": {},
     "output_type": "execute_result"
    }
   ],
   "source": [
    "df[\"pct_own\"].isnull().sum()"
   ]
  },
  {
   "cell_type": "code",
   "execution_count": 14,
   "id": "8b7e81de",
   "metadata": {},
   "outputs": [
    {
     "data": {
      "text/plain": [
       "0.00000    287\n",
       "1.00000     51\n",
       "0.50000      9\n",
       "0.75000      7\n",
       "0.84229      6\n",
       "          ... \n",
       "0.95184      1\n",
       "0.83880      1\n",
       "0.43916      1\n",
       "0.72066      1\n",
       "0.52587      1\n",
       "Name: pct_own, Length: 29602, dtype: int64"
      ]
     },
     "execution_count": 14,
     "metadata": {},
     "output_type": "execute_result"
    }
   ],
   "source": [
    "df[\"pct_own\"].value_counts()"
   ]
  },
  {
   "cell_type": "code",
   "execution_count": 15,
   "id": "fc1e1120",
   "metadata": {},
   "outputs": [
    {
     "data": {
      "text/plain": [
       "Index(['UID', 'BLOCKID', 'SUMLEVEL', 'COUNTYID', 'STATEID', 'state',\n",
       "       'state_ab', 'city', 'place', 'type', 'primary', 'zip_code', 'area_code',\n",
       "       'lat', 'lng', 'ALand', 'AWater', 'pop', 'male_pop', 'female_pop',\n",
       "       'rent_mean', 'rent_median', 'rent_stdev', 'rent_sample_weight',\n",
       "       'rent_samples', 'rent_gt_10', 'rent_gt_15', 'rent_gt_20', 'rent_gt_25',\n",
       "       'rent_gt_30', 'rent_gt_35', 'rent_gt_40', 'rent_gt_50',\n",
       "       'universe_samples', 'used_samples', 'hi_mean', 'hi_median', 'hi_stdev',\n",
       "       'hi_sample_weight', 'hi_samples', 'family_mean', 'family_median',\n",
       "       'family_stdev', 'family_sample_weight', 'family_samples',\n",
       "       'hc_mortgage_mean', 'hc_mortgage_median', 'hc_mortgage_stdev',\n",
       "       'hc_mortgage_sample_weight', 'hc_mortgage_samples', 'hc_mean',\n",
       "       'hc_median', 'hc_stdev', 'hc_samples', 'hc_sample_weight',\n",
       "       'home_equity_second_mortgage', 'second_mortgage', 'home_equity', 'debt',\n",
       "       'second_mortgage_cdf', 'home_equity_cdf', 'debt_cdf', 'hs_degree',\n",
       "       'hs_degree_male', 'hs_degree_female', 'male_age_mean',\n",
       "       'male_age_median', 'male_age_stdev', 'male_age_sample_weight',\n",
       "       'male_age_samples', 'female_age_mean', 'female_age_median',\n",
       "       'female_age_stdev', 'female_age_sample_weight', 'female_age_samples',\n",
       "       'pct_own', 'married', 'married_snp', 'separated', 'divorced'],\n",
       "      dtype='object')"
      ]
     },
     "execution_count": 15,
     "metadata": {},
     "output_type": "execute_result"
    }
   ],
   "source": [
    "df.columns"
   ]
  },
  {
   "cell_type": "code",
   "execution_count": 16,
   "id": "7dfbed25",
   "metadata": {},
   "outputs": [],
   "source": [
    "# Figure out the primary key and look for the requirement of indexing."
   ]
  },
  {
   "cell_type": "code",
   "execution_count": 17,
   "id": "c12cdf19",
   "metadata": {},
   "outputs": [
    {
     "data": {
      "text/plain": [
       "230058    5\n",
       "238294    4\n",
       "282028    4\n",
       "238947    4\n",
       "279063    4\n",
       "         ..\n",
       "267246    1\n",
       "222936    1\n",
       "291770    1\n",
       "258716    1\n",
       "287763    1\n",
       "Name: UID, Length: 38715, dtype: int64"
      ]
     },
     "execution_count": 17,
     "metadata": {},
     "output_type": "execute_result"
    }
   ],
   "source": [
    "df[\"UID\"].value_counts()"
   ]
  },
  {
   "cell_type": "code",
   "execution_count": 18,
   "id": "c7054145",
   "metadata": {},
   "outputs": [],
   "source": [
    "# There are some duplicate ecords in UID column.\n",
    "# To make UID as Primary key we have to drop duplicate records from UID column "
   ]
  },
  {
   "cell_type": "code",
   "execution_count": 19,
   "id": "78552d21",
   "metadata": {},
   "outputs": [],
   "source": [
    "df=df.drop_duplicates(subset=[\"UID\"])"
   ]
  },
  {
   "cell_type": "code",
   "execution_count": 20,
   "id": "df19616e",
   "metadata": {},
   "outputs": [
    {
     "data": {
      "text/plain": [
       "267822    1\n",
       "228857    1\n",
       "252287    1\n",
       "266700    1\n",
       "265626    1\n",
       "         ..\n",
       "284938    1\n",
       "244230    1\n",
       "244672    1\n",
       "230066    1\n",
       "287763    1\n",
       "Name: UID, Length: 38715, dtype: int64"
      ]
     },
     "execution_count": 20,
     "metadata": {},
     "output_type": "execute_result"
    }
   ],
   "source": [
    "df[\"UID\"].value_counts()"
   ]
  },
  {
   "cell_type": "markdown",
   "id": "577e20e3",
   "metadata": {},
   "source": [
    "## Primary key is UID"
   ]
  },
  {
   "cell_type": "code",
   "execution_count": 21,
   "id": "65a42d5e",
   "metadata": {},
   "outputs": [],
   "source": [
    "df.set_index(keys=['UID'],inplace=True)"
   ]
  },
  {
   "cell_type": "code",
   "execution_count": 22,
   "id": "9eb94210",
   "metadata": {},
   "outputs": [
    {
     "data": {
      "text/html": [
       "<div>\n",
       "<style scoped>\n",
       "    .dataframe tbody tr th:only-of-type {\n",
       "        vertical-align: middle;\n",
       "    }\n",
       "\n",
       "    .dataframe tbody tr th {\n",
       "        vertical-align: top;\n",
       "    }\n",
       "\n",
       "    .dataframe thead th {\n",
       "        text-align: right;\n",
       "    }\n",
       "</style>\n",
       "<table border=\"1\" class=\"dataframe\">\n",
       "  <thead>\n",
       "    <tr style=\"text-align: right;\">\n",
       "      <th></th>\n",
       "      <th>BLOCKID</th>\n",
       "      <th>SUMLEVEL</th>\n",
       "      <th>COUNTYID</th>\n",
       "      <th>STATEID</th>\n",
       "      <th>state</th>\n",
       "      <th>state_ab</th>\n",
       "      <th>city</th>\n",
       "      <th>place</th>\n",
       "      <th>type</th>\n",
       "      <th>primary</th>\n",
       "      <th>...</th>\n",
       "      <th>female_age_mean</th>\n",
       "      <th>female_age_median</th>\n",
       "      <th>female_age_stdev</th>\n",
       "      <th>female_age_sample_weight</th>\n",
       "      <th>female_age_samples</th>\n",
       "      <th>pct_own</th>\n",
       "      <th>married</th>\n",
       "      <th>married_snp</th>\n",
       "      <th>separated</th>\n",
       "      <th>divorced</th>\n",
       "    </tr>\n",
       "    <tr>\n",
       "      <th>UID</th>\n",
       "      <th></th>\n",
       "      <th></th>\n",
       "      <th></th>\n",
       "      <th></th>\n",
       "      <th></th>\n",
       "      <th></th>\n",
       "      <th></th>\n",
       "      <th></th>\n",
       "      <th></th>\n",
       "      <th></th>\n",
       "      <th></th>\n",
       "      <th></th>\n",
       "      <th></th>\n",
       "      <th></th>\n",
       "      <th></th>\n",
       "      <th></th>\n",
       "      <th></th>\n",
       "      <th></th>\n",
       "      <th></th>\n",
       "      <th></th>\n",
       "      <th></th>\n",
       "    </tr>\n",
       "  </thead>\n",
       "  <tbody>\n",
       "    <tr>\n",
       "      <th>267822</th>\n",
       "      <td>NaN</td>\n",
       "      <td>140</td>\n",
       "      <td>53</td>\n",
       "      <td>36</td>\n",
       "      <td>New York</td>\n",
       "      <td>NY</td>\n",
       "      <td>Hamilton</td>\n",
       "      <td>Hamilton</td>\n",
       "      <td>City</td>\n",
       "      <td>tract</td>\n",
       "      <td>...</td>\n",
       "      <td>44.48629</td>\n",
       "      <td>45.33333</td>\n",
       "      <td>22.51276</td>\n",
       "      <td>685.33845</td>\n",
       "      <td>2618.0</td>\n",
       "      <td>0.79046</td>\n",
       "      <td>0.57851</td>\n",
       "      <td>0.01882</td>\n",
       "      <td>0.01240</td>\n",
       "      <td>0.08770</td>\n",
       "    </tr>\n",
       "    <tr>\n",
       "      <th>246444</th>\n",
       "      <td>NaN</td>\n",
       "      <td>140</td>\n",
       "      <td>141</td>\n",
       "      <td>18</td>\n",
       "      <td>Indiana</td>\n",
       "      <td>IN</td>\n",
       "      <td>South Bend</td>\n",
       "      <td>Roseland</td>\n",
       "      <td>City</td>\n",
       "      <td>tract</td>\n",
       "      <td>...</td>\n",
       "      <td>36.48391</td>\n",
       "      <td>37.58333</td>\n",
       "      <td>23.43353</td>\n",
       "      <td>267.23367</td>\n",
       "      <td>1284.0</td>\n",
       "      <td>0.52483</td>\n",
       "      <td>0.34886</td>\n",
       "      <td>0.01426</td>\n",
       "      <td>0.01426</td>\n",
       "      <td>0.09030</td>\n",
       "    </tr>\n",
       "    <tr>\n",
       "      <th>245683</th>\n",
       "      <td>NaN</td>\n",
       "      <td>140</td>\n",
       "      <td>63</td>\n",
       "      <td>18</td>\n",
       "      <td>Indiana</td>\n",
       "      <td>IN</td>\n",
       "      <td>Danville</td>\n",
       "      <td>Danville</td>\n",
       "      <td>City</td>\n",
       "      <td>tract</td>\n",
       "      <td>...</td>\n",
       "      <td>42.15810</td>\n",
       "      <td>42.83333</td>\n",
       "      <td>23.94119</td>\n",
       "      <td>707.01963</td>\n",
       "      <td>3238.0</td>\n",
       "      <td>0.85331</td>\n",
       "      <td>0.64745</td>\n",
       "      <td>0.02830</td>\n",
       "      <td>0.01607</td>\n",
       "      <td>0.10657</td>\n",
       "    </tr>\n",
       "    <tr>\n",
       "      <th>279653</th>\n",
       "      <td>NaN</td>\n",
       "      <td>140</td>\n",
       "      <td>127</td>\n",
       "      <td>72</td>\n",
       "      <td>Puerto Rico</td>\n",
       "      <td>PR</td>\n",
       "      <td>San Juan</td>\n",
       "      <td>Guaynabo</td>\n",
       "      <td>Urban</td>\n",
       "      <td>tract</td>\n",
       "      <td>...</td>\n",
       "      <td>47.77526</td>\n",
       "      <td>50.58333</td>\n",
       "      <td>24.32015</td>\n",
       "      <td>362.20193</td>\n",
       "      <td>1559.0</td>\n",
       "      <td>0.65037</td>\n",
       "      <td>0.47257</td>\n",
       "      <td>0.02021</td>\n",
       "      <td>0.02021</td>\n",
       "      <td>0.10106</td>\n",
       "    </tr>\n",
       "    <tr>\n",
       "      <th>247218</th>\n",
       "      <td>NaN</td>\n",
       "      <td>140</td>\n",
       "      <td>161</td>\n",
       "      <td>20</td>\n",
       "      <td>Kansas</td>\n",
       "      <td>KS</td>\n",
       "      <td>Manhattan</td>\n",
       "      <td>Manhattan City</td>\n",
       "      <td>City</td>\n",
       "      <td>tract</td>\n",
       "      <td>...</td>\n",
       "      <td>24.17693</td>\n",
       "      <td>21.58333</td>\n",
       "      <td>11.10484</td>\n",
       "      <td>1854.48652</td>\n",
       "      <td>3051.0</td>\n",
       "      <td>0.13046</td>\n",
       "      <td>0.12356</td>\n",
       "      <td>0.00000</td>\n",
       "      <td>0.00000</td>\n",
       "      <td>0.03109</td>\n",
       "    </tr>\n",
       "  </tbody>\n",
       "</table>\n",
       "<p>5 rows × 79 columns</p>\n",
       "</div>"
      ],
      "text/plain": [
       "        BLOCKID  SUMLEVEL  COUNTYID  STATEID        state state_ab  \\\n",
       "UID                                                                  \n",
       "267822      NaN       140        53       36     New York       NY   \n",
       "246444      NaN       140       141       18      Indiana       IN   \n",
       "245683      NaN       140        63       18      Indiana       IN   \n",
       "279653      NaN       140       127       72  Puerto Rico       PR   \n",
       "247218      NaN       140       161       20       Kansas       KS   \n",
       "\n",
       "              city           place   type primary  ...  female_age_mean  \\\n",
       "UID                                                ...                    \n",
       "267822    Hamilton        Hamilton   City   tract  ...         44.48629   \n",
       "246444  South Bend        Roseland   City   tract  ...         36.48391   \n",
       "245683    Danville        Danville   City   tract  ...         42.15810   \n",
       "279653    San Juan        Guaynabo  Urban   tract  ...         47.77526   \n",
       "247218   Manhattan  Manhattan City   City   tract  ...         24.17693   \n",
       "\n",
       "        female_age_median  female_age_stdev  female_age_sample_weight  \\\n",
       "UID                                                                     \n",
       "267822           45.33333          22.51276                 685.33845   \n",
       "246444           37.58333          23.43353                 267.23367   \n",
       "245683           42.83333          23.94119                 707.01963   \n",
       "279653           50.58333          24.32015                 362.20193   \n",
       "247218           21.58333          11.10484                1854.48652   \n",
       "\n",
       "        female_age_samples  pct_own  married  married_snp  separated  divorced  \n",
       "UID                                                                             \n",
       "267822              2618.0  0.79046  0.57851      0.01882    0.01240   0.08770  \n",
       "246444              1284.0  0.52483  0.34886      0.01426    0.01426   0.09030  \n",
       "245683              3238.0  0.85331  0.64745      0.02830    0.01607   0.10657  \n",
       "279653              1559.0  0.65037  0.47257      0.02021    0.02021   0.10106  \n",
       "247218              3051.0  0.13046  0.12356      0.00000    0.00000   0.03109  \n",
       "\n",
       "[5 rows x 79 columns]"
      ]
     },
     "execution_count": 22,
     "metadata": {},
     "output_type": "execute_result"
    }
   ],
   "source": [
    "df.head()"
   ]
  },
  {
   "cell_type": "code",
   "execution_count": 23,
   "id": "5c766783",
   "metadata": {},
   "outputs": [],
   "source": [
    "# Q3) Gauge the fill rate of the variables and devise plans for missing value treatment. Please explain explicitly the reason for the treatment chosen for each variable."
   ]
  },
  {
   "cell_type": "code",
   "execution_count": 24,
   "id": "db3269ea",
   "metadata": {},
   "outputs": [
    {
     "data": {
      "text/plain": [
       "BLOCKID        38715\n",
       "SUMLEVEL           0\n",
       "COUNTYID           0\n",
       "STATEID            0\n",
       "state              0\n",
       "               ...  \n",
       "pct_own          271\n",
       "married          196\n",
       "married_snp      196\n",
       "separated        196\n",
       "divorced         196\n",
       "Length: 79, dtype: int64"
      ]
     },
     "execution_count": 24,
     "metadata": {},
     "output_type": "execute_result"
    }
   ],
   "source": [
    "df.isnull().sum()"
   ]
  },
  {
   "cell_type": "code",
   "execution_count": 25,
   "id": "08df7f33",
   "metadata": {},
   "outputs": [
    {
     "data": {
      "text/plain": [
       "nan"
      ]
     },
     "execution_count": 25,
     "metadata": {},
     "output_type": "execute_result"
    }
   ],
   "source": [
    "df[\"BLOCKID\"].unique().sum()"
   ]
  },
  {
   "cell_type": "code",
   "execution_count": 26,
   "id": "25d08b36",
   "metadata": {},
   "outputs": [],
   "source": [
    "# As BLOCKID contains only null values we will delete the BLOCKID "
   ]
  },
  {
   "cell_type": "code",
   "execution_count": 27,
   "id": "dfa9dfe7",
   "metadata": {},
   "outputs": [],
   "source": [
    "df.drop(\"BLOCKID\",axis=1,inplace=True)"
   ]
  },
  {
   "cell_type": "code",
   "execution_count": 28,
   "id": "7e497757",
   "metadata": {},
   "outputs": [
    {
     "data": {
      "text/plain": [
       "array([140], dtype=int64)"
      ]
     },
     "execution_count": 28,
     "metadata": {},
     "output_type": "execute_result"
    }
   ],
   "source": [
    "df[\"SUMLEVEL\"].unique()"
   ]
  },
  {
   "cell_type": "code",
   "execution_count": 29,
   "id": "83d5de79",
   "metadata": {},
   "outputs": [],
   "source": [
    "# Drop SUMLEVEL as there are no unique values "
   ]
  },
  {
   "cell_type": "code",
   "execution_count": 30,
   "id": "f920d4c1",
   "metadata": {},
   "outputs": [],
   "source": [
    "df.drop(\"SUMLEVEL\",axis=1,inplace=True)"
   ]
  },
  {
   "cell_type": "code",
   "execution_count": 31,
   "id": "cfc1300f",
   "metadata": {},
   "outputs": [
    {
     "data": {
      "text/html": [
       "<div>\n",
       "<style scoped>\n",
       "    .dataframe tbody tr th:only-of-type {\n",
       "        vertical-align: middle;\n",
       "    }\n",
       "\n",
       "    .dataframe tbody tr th {\n",
       "        vertical-align: top;\n",
       "    }\n",
       "\n",
       "    .dataframe thead th {\n",
       "        text-align: right;\n",
       "    }\n",
       "</style>\n",
       "<table border=\"1\" class=\"dataframe\">\n",
       "  <thead>\n",
       "    <tr style=\"text-align: right;\">\n",
       "      <th></th>\n",
       "      <th>COUNTYID</th>\n",
       "      <th>STATEID</th>\n",
       "      <th>state</th>\n",
       "      <th>state_ab</th>\n",
       "      <th>city</th>\n",
       "      <th>place</th>\n",
       "      <th>type</th>\n",
       "      <th>primary</th>\n",
       "      <th>zip_code</th>\n",
       "      <th>area_code</th>\n",
       "      <th>...</th>\n",
       "      <th>female_age_mean</th>\n",
       "      <th>female_age_median</th>\n",
       "      <th>female_age_stdev</th>\n",
       "      <th>female_age_sample_weight</th>\n",
       "      <th>female_age_samples</th>\n",
       "      <th>pct_own</th>\n",
       "      <th>married</th>\n",
       "      <th>married_snp</th>\n",
       "      <th>separated</th>\n",
       "      <th>divorced</th>\n",
       "    </tr>\n",
       "    <tr>\n",
       "      <th>UID</th>\n",
       "      <th></th>\n",
       "      <th></th>\n",
       "      <th></th>\n",
       "      <th></th>\n",
       "      <th></th>\n",
       "      <th></th>\n",
       "      <th></th>\n",
       "      <th></th>\n",
       "      <th></th>\n",
       "      <th></th>\n",
       "      <th></th>\n",
       "      <th></th>\n",
       "      <th></th>\n",
       "      <th></th>\n",
       "      <th></th>\n",
       "      <th></th>\n",
       "      <th></th>\n",
       "      <th></th>\n",
       "      <th></th>\n",
       "      <th></th>\n",
       "      <th></th>\n",
       "    </tr>\n",
       "  </thead>\n",
       "  <tbody>\n",
       "    <tr>\n",
       "      <th>267822</th>\n",
       "      <td>53</td>\n",
       "      <td>36</td>\n",
       "      <td>New York</td>\n",
       "      <td>NY</td>\n",
       "      <td>Hamilton</td>\n",
       "      <td>Hamilton</td>\n",
       "      <td>City</td>\n",
       "      <td>tract</td>\n",
       "      <td>13346</td>\n",
       "      <td>315</td>\n",
       "      <td>...</td>\n",
       "      <td>44.48629</td>\n",
       "      <td>45.33333</td>\n",
       "      <td>22.51276</td>\n",
       "      <td>685.33845</td>\n",
       "      <td>2618.0</td>\n",
       "      <td>0.79046</td>\n",
       "      <td>0.57851</td>\n",
       "      <td>0.01882</td>\n",
       "      <td>0.01240</td>\n",
       "      <td>0.08770</td>\n",
       "    </tr>\n",
       "    <tr>\n",
       "      <th>246444</th>\n",
       "      <td>141</td>\n",
       "      <td>18</td>\n",
       "      <td>Indiana</td>\n",
       "      <td>IN</td>\n",
       "      <td>South Bend</td>\n",
       "      <td>Roseland</td>\n",
       "      <td>City</td>\n",
       "      <td>tract</td>\n",
       "      <td>46616</td>\n",
       "      <td>574</td>\n",
       "      <td>...</td>\n",
       "      <td>36.48391</td>\n",
       "      <td>37.58333</td>\n",
       "      <td>23.43353</td>\n",
       "      <td>267.23367</td>\n",
       "      <td>1284.0</td>\n",
       "      <td>0.52483</td>\n",
       "      <td>0.34886</td>\n",
       "      <td>0.01426</td>\n",
       "      <td>0.01426</td>\n",
       "      <td>0.09030</td>\n",
       "    </tr>\n",
       "    <tr>\n",
       "      <th>245683</th>\n",
       "      <td>63</td>\n",
       "      <td>18</td>\n",
       "      <td>Indiana</td>\n",
       "      <td>IN</td>\n",
       "      <td>Danville</td>\n",
       "      <td>Danville</td>\n",
       "      <td>City</td>\n",
       "      <td>tract</td>\n",
       "      <td>46122</td>\n",
       "      <td>317</td>\n",
       "      <td>...</td>\n",
       "      <td>42.15810</td>\n",
       "      <td>42.83333</td>\n",
       "      <td>23.94119</td>\n",
       "      <td>707.01963</td>\n",
       "      <td>3238.0</td>\n",
       "      <td>0.85331</td>\n",
       "      <td>0.64745</td>\n",
       "      <td>0.02830</td>\n",
       "      <td>0.01607</td>\n",
       "      <td>0.10657</td>\n",
       "    </tr>\n",
       "    <tr>\n",
       "      <th>279653</th>\n",
       "      <td>127</td>\n",
       "      <td>72</td>\n",
       "      <td>Puerto Rico</td>\n",
       "      <td>PR</td>\n",
       "      <td>San Juan</td>\n",
       "      <td>Guaynabo</td>\n",
       "      <td>Urban</td>\n",
       "      <td>tract</td>\n",
       "      <td>927</td>\n",
       "      <td>787</td>\n",
       "      <td>...</td>\n",
       "      <td>47.77526</td>\n",
       "      <td>50.58333</td>\n",
       "      <td>24.32015</td>\n",
       "      <td>362.20193</td>\n",
       "      <td>1559.0</td>\n",
       "      <td>0.65037</td>\n",
       "      <td>0.47257</td>\n",
       "      <td>0.02021</td>\n",
       "      <td>0.02021</td>\n",
       "      <td>0.10106</td>\n",
       "    </tr>\n",
       "    <tr>\n",
       "      <th>247218</th>\n",
       "      <td>161</td>\n",
       "      <td>20</td>\n",
       "      <td>Kansas</td>\n",
       "      <td>KS</td>\n",
       "      <td>Manhattan</td>\n",
       "      <td>Manhattan City</td>\n",
       "      <td>City</td>\n",
       "      <td>tract</td>\n",
       "      <td>66502</td>\n",
       "      <td>785</td>\n",
       "      <td>...</td>\n",
       "      <td>24.17693</td>\n",
       "      <td>21.58333</td>\n",
       "      <td>11.10484</td>\n",
       "      <td>1854.48652</td>\n",
       "      <td>3051.0</td>\n",
       "      <td>0.13046</td>\n",
       "      <td>0.12356</td>\n",
       "      <td>0.00000</td>\n",
       "      <td>0.00000</td>\n",
       "      <td>0.03109</td>\n",
       "    </tr>\n",
       "  </tbody>\n",
       "</table>\n",
       "<p>5 rows × 77 columns</p>\n",
       "</div>"
      ],
      "text/plain": [
       "        COUNTYID  STATEID        state state_ab        city           place  \\\n",
       "UID                                                                           \n",
       "267822        53       36     New York       NY    Hamilton        Hamilton   \n",
       "246444       141       18      Indiana       IN  South Bend        Roseland   \n",
       "245683        63       18      Indiana       IN    Danville        Danville   \n",
       "279653       127       72  Puerto Rico       PR    San Juan        Guaynabo   \n",
       "247218       161       20       Kansas       KS   Manhattan  Manhattan City   \n",
       "\n",
       "         type primary  zip_code  area_code  ...  female_age_mean  \\\n",
       "UID                                         ...                    \n",
       "267822   City   tract     13346        315  ...         44.48629   \n",
       "246444   City   tract     46616        574  ...         36.48391   \n",
       "245683   City   tract     46122        317  ...         42.15810   \n",
       "279653  Urban   tract       927        787  ...         47.77526   \n",
       "247218   City   tract     66502        785  ...         24.17693   \n",
       "\n",
       "        female_age_median  female_age_stdev  female_age_sample_weight  \\\n",
       "UID                                                                     \n",
       "267822           45.33333          22.51276                 685.33845   \n",
       "246444           37.58333          23.43353                 267.23367   \n",
       "245683           42.83333          23.94119                 707.01963   \n",
       "279653           50.58333          24.32015                 362.20193   \n",
       "247218           21.58333          11.10484                1854.48652   \n",
       "\n",
       "        female_age_samples  pct_own  married  married_snp  separated  divorced  \n",
       "UID                                                                             \n",
       "267822              2618.0  0.79046  0.57851      0.01882    0.01240   0.08770  \n",
       "246444              1284.0  0.52483  0.34886      0.01426    0.01426   0.09030  \n",
       "245683              3238.0  0.85331  0.64745      0.02830    0.01607   0.10657  \n",
       "279653              1559.0  0.65037  0.47257      0.02021    0.02021   0.10106  \n",
       "247218              3051.0  0.13046  0.12356      0.00000    0.00000   0.03109  \n",
       "\n",
       "[5 rows x 77 columns]"
      ]
     },
     "execution_count": 31,
     "metadata": {},
     "output_type": "execute_result"
    }
   ],
   "source": [
    "df.head()"
   ]
  },
  {
   "cell_type": "code",
   "execution_count": 32,
   "id": "4c61a60d",
   "metadata": {},
   "outputs": [
    {
     "data": {
      "text/plain": [
       "0"
      ]
     },
     "execution_count": 32,
     "metadata": {},
     "output_type": "execute_result"
    }
   ],
   "source": [
    "df[\"COUNTYID\"].isnull().sum()"
   ]
  },
  {
   "cell_type": "code",
   "execution_count": 33,
   "id": "0d99feaf",
   "metadata": {},
   "outputs": [
    {
     "data": {
      "text/plain": [
       "array([ 53, 141,  63, 127, 161,  79, 337,  45,  81,  37,  73,  51,  25,\n",
       "       121,  99, 153,  19,  47, 209,   3,  97,  69,   7,  89,   1,   5,\n",
       "        13,  86,   9, 101, 183,  67,  35, 115,  29,  17,  77,  65,  93,\n",
       "        41, 109, 155,  59, 439, 133, 117, 215,  33,  71,  15,  11,  21,\n",
       "       291,  31,  95,  75,  91, 163, 491,  27, 129, 113,  55, 111,  49,\n",
       "        57, 105, 123, 241, 197, 290,  83, 157, 135,  20,  43,  39, 145,\n",
       "       245, 329, 201, 191, 143,  61, 361, 103, 171, 227, 137, 119, 449,\n",
       "       131,  85, 231, 221, 147, 740, 810, 189, 213, 670, 177, 257, 477,\n",
       "       317, 159, 169, 173, 151,  87, 165, 355, 107, 453, 590, 650, 125,\n",
       "       193,  23, 510, 267, 217, 710, 187, 175, 251, 167, 139, 347, 233,\n",
       "       179, 479, 321, 313, 149, 339, 427, 680, 277, 325, 770,  78, 459,\n",
       "       195, 820, 463, 700, 287, 600, 341, 150, 293, 375, 540, 185, 281,\n",
       "       199, 181, 170, 423, 255, 219, 373, 481, 305, 261, 405, 122, 265,\n",
       "        14, 282, 800, 349,  90, 401, 730, 247, 307, 379, 445, 387, 760,\n",
       "       110, 457,  28, 550, 451, 499, 295, 203, 467, 630, 309, 223, 465,\n",
       "       303, 381, 363, 235, 301, 207, 473, 485, 333, 455, 237, 367, 253,\n",
       "       353, 158, 229, 259, 441, 505, 263, 471, 683, 489, 409, 297, 397,\n",
       "       775, 205, 335, 299, 285, 225, 198, 239,   6, 415, 437, 425, 497,\n",
       "       507, 580, 130, 520, 220, 357, 475,  50, 391, 365, 311, 275, 417,\n",
       "       595, 735, 493, 369, 283,  12, 530, 750, 469, 249, 211, 186, 790,\n",
       "       431, 269, 399, 315, 279, 323, 495, 271, 421, 570, 411, 343, 403,\n",
       "       389, 371, 395, 610, 503, 461,  68, 620, 230, 351,  54, 840, 720,\n",
       "       487, 273, 429, 640, 393, 660, 331, 377, 164, 180, 433, 102, 100,\n",
       "        16, 359, 243, 289,  60, 327,  36, 345, 240, 483,  70], dtype=int64)"
      ]
     },
     "execution_count": 33,
     "metadata": {},
     "output_type": "execute_result"
    }
   ],
   "source": [
    "df[\"COUNTYID\"].unique()"
   ]
  },
  {
   "cell_type": "code",
   "execution_count": 34,
   "id": "29571ed9",
   "metadata": {},
   "outputs": [
    {
     "data": {
      "text/plain": [
       "271"
      ]
     },
     "execution_count": 34,
     "metadata": {},
     "output_type": "execute_result"
    }
   ],
   "source": [
    "df[\"pct_own\"].isnull().sum(axis=0)"
   ]
  },
  {
   "cell_type": "code",
   "execution_count": 35,
   "id": "87f99fd1",
   "metadata": {},
   "outputs": [
    {
     "data": {
      "text/plain": [
       "array([0.79046, 0.52483, 0.85331, ..., 0.33122, 0.8333 , 0.52587])"
      ]
     },
     "execution_count": 35,
     "metadata": {},
     "output_type": "execute_result"
    }
   ],
   "source": [
    "df[\"pct_own\"].unique()"
   ]
  },
  {
   "cell_type": "code",
   "execution_count": 36,
   "id": "28eb3559",
   "metadata": {},
   "outputs": [
    {
     "data": {
      "text/plain": [
       "count    38444.000000\n",
       "mean         0.641050\n",
       "std          0.225053\n",
       "min          0.000000\n",
       "25%          0.502950\n",
       "50%          0.690935\n",
       "75%          0.817142\n",
       "max          1.000000\n",
       "Name: pct_own, dtype: float64"
      ]
     },
     "execution_count": 36,
     "metadata": {},
     "output_type": "execute_result"
    }
   ],
   "source": [
    "df[\"pct_own\"].describe()"
   ]
  },
  {
   "cell_type": "code",
   "execution_count": 37,
   "id": "d4d5028c",
   "metadata": {},
   "outputs": [
    {
     "data": {
      "text/plain": [
       "COUNTYID       0.000000\n",
       "STATEID        0.000000\n",
       "state          0.000000\n",
       "state_ab       0.000000\n",
       "city           0.000000\n",
       "                 ...   \n",
       "pct_own        0.699987\n",
       "married        0.506264\n",
       "married_snp    0.506264\n",
       "separated      0.506264\n",
       "divorced       0.506264\n",
       "Length: 77, dtype: float64"
      ]
     },
     "execution_count": 37,
     "metadata": {},
     "output_type": "execute_result"
    }
   ],
   "source": [
    "df.isnull().mean()*100"
   ]
  },
  {
   "cell_type": "code",
   "execution_count": 38,
   "id": "2276d481",
   "metadata": {},
   "outputs": [
    {
     "data": {
      "text/plain": [
       "UID\n",
       "268686    0.83627\n",
       "270983    0.40738\n",
       "288627    0.60403\n",
       "284793    0.01521\n",
       "282081    0.84522\n",
       "           ...   \n",
       "236300    0.37694\n",
       "224726    0.70572\n",
       "292400    0.82732\n",
       "281746    0.57879\n",
       "277366    0.71520\n",
       "Name: pct_own, Length: 271, dtype: float64"
      ]
     },
     "execution_count": 38,
     "metadata": {},
     "output_type": "execute_result"
    }
   ],
   "source": [
    "df['pct_own'][~(df[\"pct_own\"].isnull())].sample(df[\"pct_own\"].isnull().sum())"
   ]
  },
  {
   "cell_type": "code",
   "execution_count": null,
   "id": "580f2be3",
   "metadata": {},
   "outputs": [],
   "source": []
  },
  {
   "cell_type": "code",
   "execution_count": 39,
   "id": "a9cad2e2",
   "metadata": {},
   "outputs": [],
   "source": [
    "df[\"pct_mean\"]=df[\"pct_own\"].fillna(df[\"pct_own\"].mean())"
   ]
  },
  {
   "cell_type": "code",
   "execution_count": 40,
   "id": "205fc6df",
   "metadata": {},
   "outputs": [],
   "source": [
    "df[\"pct_median\"]=df[\"pct_own\"].fillna(df[\"pct_own\"].median())"
   ]
  },
  {
   "cell_type": "code",
   "execution_count": null,
   "id": "4d996d6a",
   "metadata": {},
   "outputs": [],
   "source": []
  },
  {
   "cell_type": "code",
   "execution_count": null,
   "id": "ca11d6f6",
   "metadata": {},
   "outputs": [],
   "source": [
    "sns.kdeplot(df[\"pct_own\"])\n",
    "sns.kdeplot(df[\"pct_mean\"])"
   ]
  },
  {
   "cell_type": "code",
   "execution_count": null,
   "id": "f6229293",
   "metadata": {},
   "outputs": [],
   "source": [
    "sns.kdeplot(df[\"pct_own\"])\n",
    "sns.kdeplot(df[\"pct_median\"])"
   ]
  },
  {
   "cell_type": "code",
   "execution_count": null,
   "id": "225dc7ab",
   "metadata": {},
   "outputs": [],
   "source": [
    "df[['pct_own','pct_mean','pct_median']].boxplot()"
   ]
  },
  {
   "cell_type": "code",
   "execution_count": null,
   "id": "dd2ce50c",
   "metadata": {},
   "outputs": [],
   "source": [
    "# it is clear that we can replace nan values of pct_own either by  mean or median \n",
    "df[\"pct_own\"].fillna(df[\"pct_own\"].mean(),inplace=True)"
   ]
  },
  {
   "cell_type": "code",
   "execution_count": null,
   "id": "3b770b2a",
   "metadata": {},
   "outputs": [],
   "source": [
    "df[\"pct_own\"].isnull().sum()"
   ]
  },
  {
   "cell_type": "code",
   "execution_count": null,
   "id": "5b11a1aa",
   "metadata": {},
   "outputs": [],
   "source": [
    "df[\"married_mean\"]=df[\"married\"].fillna(df[\"married\"].mean())\n",
    "df[\"married_median\"]=df[\"married\"].fillna(df[\"married\"].median())"
   ]
  },
  {
   "cell_type": "code",
   "execution_count": null,
   "id": "783e1444",
   "metadata": {},
   "outputs": [],
   "source": [
    "sns.kdeplot(df[\"married\"])\n",
    "sns.kdeplot(df[\"married_mean\"])"
   ]
  },
  {
   "cell_type": "code",
   "execution_count": null,
   "id": "1285dc43",
   "metadata": {},
   "outputs": [],
   "source": [
    "sns.kdeplot(df[\"married\"])\n",
    "sns.kdeplot(df[\"married_median\"])"
   ]
  },
  {
   "cell_type": "code",
   "execution_count": null,
   "id": "771a38fc",
   "metadata": {},
   "outputs": [],
   "source": [
    "df[['married','married_mean','married_median']].boxplot()"
   ]
  },
  {
   "cell_type": "code",
   "execution_count": null,
   "id": "2a1812ba",
   "metadata": {},
   "outputs": [],
   "source": [
    "# Here we will replace nan values with Mean as its slighlty closer to married column than median "
   ]
  },
  {
   "cell_type": "code",
   "execution_count": null,
   "id": "68f2068d",
   "metadata": {},
   "outputs": [],
   "source": [
    "df[\"married\"].fillna(df[\"married\"].mean(),inplace=True)"
   ]
  },
  {
   "cell_type": "code",
   "execution_count": null,
   "id": "4d99c93f",
   "metadata": {},
   "outputs": [],
   "source": [
    "df[\"married\"].isnull().sum()"
   ]
  },
  {
   "cell_type": "code",
   "execution_count": null,
   "id": "79dcf81c",
   "metadata": {},
   "outputs": [],
   "source": [
    "df[\"married_snp_mean\"]=df[\"married_snp\"].fillna(df[\"married_snp\"].mean())\n",
    "df[\"married_snp_median\"]=df[\"married_snp\"].fillna(df[\"married_snp\"].median())"
   ]
  },
  {
   "cell_type": "code",
   "execution_count": null,
   "id": "1979eff4",
   "metadata": {},
   "outputs": [],
   "source": [
    "sns.kdeplot(df[\"married_snp\"])\n",
    "sns.kdeplot(df[\"married_snp_mean\"])"
   ]
  },
  {
   "cell_type": "code",
   "execution_count": null,
   "id": "e4eafe00",
   "metadata": {},
   "outputs": [],
   "source": [
    "sns.kdeplot(df[\"married_snp\"])\n",
    "sns.kdeplot(df[\"married_snp_mean\"])"
   ]
  },
  {
   "cell_type": "code",
   "execution_count": null,
   "id": "5f59983f",
   "metadata": {},
   "outputs": [],
   "source": [
    "df[['married_snp','married_snp_mean','married_snp_median']].boxplot()"
   ]
  },
  {
   "cell_type": "code",
   "execution_count": null,
   "id": "5017a098",
   "metadata": {},
   "outputs": [],
   "source": [
    "# In \"married_snp\" we can replace NAN values with either mean or median values "
   ]
  },
  {
   "cell_type": "code",
   "execution_count": null,
   "id": "e8dab2a5",
   "metadata": {},
   "outputs": [],
   "source": [
    "df[\"married_snp\"].fillna(df[\"married_snp\"].median(),inplace=True)"
   ]
  },
  {
   "cell_type": "code",
   "execution_count": null,
   "id": "8c00ad91",
   "metadata": {},
   "outputs": [],
   "source": [
    "df[\"married_snp\"].isnull().sum()"
   ]
  },
  {
   "cell_type": "code",
   "execution_count": null,
   "id": "d868f03f",
   "metadata": {},
   "outputs": [],
   "source": [
    "df[\"separated_mean\"]=df[\"separated\"].fillna(df[\"separated\"].mean())\n",
    "df[\"separated_median\"]=df[\"separated\"].fillna(df[\"separated\"].median())"
   ]
  },
  {
   "cell_type": "code",
   "execution_count": null,
   "id": "8704a81b",
   "metadata": {},
   "outputs": [],
   "source": [
    "sns.kdeplot(df[\"separated\"])\n",
    "sns.kdeplot(df[\"separated_mean\"])"
   ]
  },
  {
   "cell_type": "code",
   "execution_count": null,
   "id": "a66bbdfb",
   "metadata": {},
   "outputs": [],
   "source": [
    "sns.kdeplot(df[\"separated\"])\n",
    "sns.kdeplot(df[\"separated_median\"])"
   ]
  },
  {
   "cell_type": "code",
   "execution_count": null,
   "id": "084fcab1",
   "metadata": {},
   "outputs": [],
   "source": [
    "df[['separated','separated_mean','separated_median']].boxplot()"
   ]
  },
  {
   "cell_type": "code",
   "execution_count": null,
   "id": "3cd4d1c9",
   "metadata": {},
   "outputs": [],
   "source": [
    "# we can repalce NAN values of separated column by either mean or median \n",
    "df[\"separated\"]=df[\"separated\"].fillna(df[\"separated\"].median())"
   ]
  },
  {
   "cell_type": "code",
   "execution_count": null,
   "id": "b8273cac",
   "metadata": {},
   "outputs": [],
   "source": [
    "df[\"separated\"].isnull().sum()"
   ]
  },
  {
   "cell_type": "code",
   "execution_count": null,
   "id": "f5075104",
   "metadata": {},
   "outputs": [],
   "source": [
    "df[\"divorced_mean\"]=df[\"divorced\"].fillna(df[\"divorced\"].mean())\n",
    "df[\"divorced_median\"]=df[\"divorced\"].fillna(df[\"divorced\"].median())"
   ]
  },
  {
   "cell_type": "code",
   "execution_count": null,
   "id": "b343d9a1",
   "metadata": {},
   "outputs": [],
   "source": [
    "sns.kdeplot(df[\"divorced\"])\n",
    "sns.kdeplot(df[\"divorced_mean\"])"
   ]
  },
  {
   "cell_type": "code",
   "execution_count": null,
   "id": "b4634a4c",
   "metadata": {},
   "outputs": [],
   "source": [
    "sns.kdeplot(df[\"divorced\"])\n",
    "sns.kdeplot(df[\"divorced_median\"])"
   ]
  },
  {
   "cell_type": "code",
   "execution_count": null,
   "id": "a4d1019e",
   "metadata": {},
   "outputs": [],
   "source": [
    "df[['divorced','divorced_mean','divorced_median']].boxplot()"
   ]
  },
  {
   "cell_type": "code",
   "execution_count": null,
   "id": "b35d32ac",
   "metadata": {},
   "outputs": [],
   "source": [
    "# here mean is lsightly close to divorse column so wee will replace the divorse column with mean \n",
    "df[\"divorced\"]=df['divorced'].fillna(df[\"divorced\"].mean())"
   ]
  },
  {
   "cell_type": "code",
   "execution_count": null,
   "id": "33cdef78",
   "metadata": {},
   "outputs": [],
   "source": [
    "df[\"divorced\"].isnull().sum()"
   ]
  },
  {
   "cell_type": "code",
   "execution_count": null,
   "id": "f088068c",
   "metadata": {},
   "outputs": [],
   "source": [
    "df.columns"
   ]
  },
  {
   "cell_type": "code",
   "execution_count": null,
   "id": "1c4bb56b",
   "metadata": {},
   "outputs": [],
   "source": [
    "df.head()"
   ]
  },
  {
   "cell_type": "code",
   "execution_count": null,
   "id": "08793ab4",
   "metadata": {},
   "outputs": [],
   "source": [
    "df.info()"
   ]
  },
  {
   "cell_type": "code",
   "execution_count": null,
   "id": "ef644330",
   "metadata": {},
   "outputs": [],
   "source": []
  },
  {
   "cell_type": "code",
   "execution_count": null,
   "id": "46156a93",
   "metadata": {},
   "outputs": [],
   "source": [
    "df.isnull().sum()"
   ]
  },
  {
   "cell_type": "code",
   "execution_count": null,
   "id": "6684eb43",
   "metadata": {},
   "outputs": [],
   "source": []
  },
  {
   "cell_type": "code",
   "execution_count": null,
   "id": "6d87e9f6",
   "metadata": {},
   "outputs": [],
   "source": [
    "# Imputing  missing values with mean\n",
    "missing_cols=[]\n",
    "for col in df.columns:\n",
    "    if df[col].isna().sum() !=0:\n",
    "         missing_cols.append(col)\n",
    "print(missing_cols)"
   ]
  },
  {
   "cell_type": "code",
   "execution_count": null,
   "id": "eba2dcdd",
   "metadata": {},
   "outputs": [],
   "source": [
    "df.isnull().sum()"
   ]
  },
  {
   "cell_type": "code",
   "execution_count": null,
   "id": "088ca6af",
   "metadata": {},
   "outputs": [],
   "source": [
    "for col in df.columns:\n",
    "    if col in (missing_cols):\n",
    "        df[col].replace(np.nan, df[col].mean(),inplace=True)"
   ]
  },
  {
   "cell_type": "code",
   "execution_count": null,
   "id": "7834bf4b",
   "metadata": {},
   "outputs": [],
   "source": [
    "df.isnull().sum()"
   ]
  },
  {
   "cell_type": "code",
   "execution_count": null,
   "id": "b24bb067",
   "metadata": {},
   "outputs": [],
   "source": [
    "# we have delt with all NAN values "
   ]
  },
  {
   "cell_type": "markdown",
   "id": "a12492b0",
   "metadata": {},
   "source": [
    "# OUTLIERS"
   ]
  },
  {
   "cell_type": "code",
   "execution_count": null,
   "id": "9ce76cf7",
   "metadata": {},
   "outputs": [],
   "source": [
    "df[['married','divorced','separated']].boxplot()"
   ]
  },
  {
   "cell_type": "code",
   "execution_count": null,
   "id": "21c9dd6d",
   "metadata": {},
   "outputs": [],
   "source": [
    "IQR = df['married'].quantile(0.75) - df['married'].quantile(0.25)\n",
    "\n",
    "lower = df['married'].quantile(0.25) - 1.5* IQR\n",
    "upper = df['married'].quantile(0.75) + 1.5* IQR"
   ]
  },
  {
   "cell_type": "code",
   "execution_count": null,
   "id": "8e60ae11",
   "metadata": {},
   "outputs": [],
   "source": [
    "outliers = np.where(df[\"married\"]>=upper,True, np.where(df[\"married\"]<=lower,True,False))\n",
    "\n",
    "df = df.loc[~(outliers)]"
   ]
  },
  {
   "cell_type": "code",
   "execution_count": null,
   "id": "adbeabf7",
   "metadata": {},
   "outputs": [],
   "source": [
    "df[['married']].boxplot()"
   ]
  },
  {
   "cell_type": "code",
   "execution_count": null,
   "id": "25ddbc34",
   "metadata": {},
   "outputs": [],
   "source": [
    "# Remove outliers from  Divorsed column "
   ]
  },
  {
   "cell_type": "code",
   "execution_count": null,
   "id": "4ddc1705",
   "metadata": {},
   "outputs": [],
   "source": [
    "IQR = df['divorced'].quantile(0.75) - df['divorced'].quantile(0.25)\n",
    "\n",
    "lower = df['divorced'].quantile(0.25) - 1.5* IQR\n",
    "upper = df['divorced'].quantile(0.75) + 1.5* IQR"
   ]
  },
  {
   "cell_type": "code",
   "execution_count": null,
   "id": "4b37a9e4",
   "metadata": {},
   "outputs": [],
   "source": [
    "outliers = np.where(df[\"divorced\"]>=upper,True, np.where(df[\"divorced\"]<=lower,True,False))\n",
    "\n",
    "df = df.loc[~(outliers)]"
   ]
  },
  {
   "cell_type": "code",
   "execution_count": null,
   "id": "2838a7d4",
   "metadata": {},
   "outputs": [],
   "source": [
    "df[['divorced']].boxplot()"
   ]
  },
  {
   "cell_type": "code",
   "execution_count": null,
   "id": "d7ebf235",
   "metadata": {},
   "outputs": [],
   "source": [
    " # Remove outliers from "
   ]
  },
  {
   "cell_type": "code",
   "execution_count": null,
   "id": "0c04ba45",
   "metadata": {},
   "outputs": [],
   "source": [
    "IQR = df['separated'].quantile(0.73) - df['separated'].quantile(0.25)\n",
    "\n",
    "lower = df['separated'].quantile(0.25) - 1.5* IQR\n",
    "upper = df['separated'].quantile(0.73) + 1.5* IQR"
   ]
  },
  {
   "cell_type": "code",
   "execution_count": null,
   "id": "cf700282",
   "metadata": {},
   "outputs": [],
   "source": [
    "outliers = np.where(df[\"separated\"]>=upper,True, np.where(df[\"separated\"]<=lower,True,False))\n",
    "\n",
    "df = df.loc[~(outliers)]"
   ]
  },
  {
   "cell_type": "code",
   "execution_count": null,
   "id": "99f40891",
   "metadata": {},
   "outputs": [],
   "source": [
    "df[['separated']].boxplot()"
   ]
  },
  {
   "cell_type": "code",
   "execution_count": null,
   "id": "bc6cdb5f",
   "metadata": {},
   "outputs": [],
   "source": []
  },
  {
   "cell_type": "code",
   "execution_count": null,
   "id": "8a7d911d",
   "metadata": {},
   "outputs": [],
   "source": []
  },
  {
   "cell_type": "code",
   "execution_count": null,
   "id": "b55ea84a",
   "metadata": {},
   "outputs": [],
   "source": []
  },
  {
   "cell_type": "code",
   "execution_count": null,
   "id": "0c828cfa",
   "metadata": {},
   "outputs": [],
   "source": []
  },
  {
   "cell_type": "markdown",
   "id": "4fb131b6",
   "metadata": {},
   "source": [
    "# Exploratory Data Analysis (EDA):\n",
    "\n",
    "   ### 4.Perform debt analysis. You may take the following steps:"
   ]
  },
  {
   "cell_type": "markdown",
   "id": "c043aa85",
   "metadata": {},
   "source": [
    "##  a) Explore the top 2,500 locations where the percentage of households with a second mortgage is the highest and percent ownership is above 10 percent. Visualize using geo-map. You may keep the upper limit for the percent of households with a second mortgage to 50 percent"
   ]
  },
  {
   "cell_type": "markdown",
   "id": "8b5cb899",
   "metadata": {},
   "source": [
    "from pandasql import sqldf\n",
    "q1 = \"select place,pct_own,second_mortgage,lat,lng from df_train where pct_own >0.10 and second_mortgage <0.5 order by second_mortgage DESC LIMIT 2500;\"\n",
    "pysqldf = lambda q: sqldf(q, globals())\n",
    "df_train_location_mort_pct=pysqldf(q1)\n",
    "\n",
    "\n",
    "#### This query is performed in sql "
   ]
  },
  {
   "cell_type": "markdown",
   "id": "359df9f9",
   "metadata": {},
   "source": [
    "## b) Use the following bad debt equation: Bad Debt = P (Second Mortgage ∩ Home Equity Loan) Bad Debt = second_mortgage + home_equity - home_equity_second_mortgage c) Create pie charts to show overall debt and bad debt"
   ]
  },
  {
   "cell_type": "code",
   "execution_count": null,
   "id": "8adb88c3",
   "metadata": {},
   "outputs": [],
   "source": []
  },
  {
   "cell_type": "code",
   "execution_count": null,
   "id": "0483438a",
   "metadata": {},
   "outputs": [],
   "source": [
    "df['bad_debt']=df['second_mortgage']+df['home_equity']-df['home_equity_second_mortgage']"
   ]
  },
  {
   "cell_type": "code",
   "execution_count": null,
   "id": "7ba61df8",
   "metadata": {},
   "outputs": [],
   "source": [
    "df['bins'] = pd.cut(df['bad_debt'],bins=[0,0.1,1],labels=[\"less than 50%\",\"50-100%\"])\n",
    "df.groupby(['bins']).size().plot(kind='pie',subplots=True,startangle=90, shadow=True,autopct='%1.1f%%')\n",
    "plt.axis('equal')\n",
    "plt.show()\n"
   ]
  },
  {
   "cell_type": "markdown",
   "id": "5918a1ea",
   "metadata": {},
   "source": [
    "\n",
    "## d) Create Box and whisker plot and analyze the distribution for 2nd mortgage, home equity, good debt, and bad debt for different cities"
   ]
  },
  {
   "cell_type": "code",
   "execution_count": null,
   "id": "d9da47d0",
   "metadata": {},
   "outputs": [],
   "source": [
    "cols=[]\n",
    "df.columns"
   ]
  },
  {
   "cell_type": "code",
   "execution_count": null,
   "id": "3212a80f",
   "metadata": {},
   "outputs": [],
   "source": [
    "df.city.head(20)"
   ]
  },
  {
   "cell_type": "code",
   "execution_count": null,
   "id": "1dbc4778",
   "metadata": {},
   "outputs": [],
   "source": [
    "#Taking Hamilton and Manhattan cities data\n",
    "cols=['second_mortgage','home_equity','debt','bad_debt']\n",
    "df_box_hamilton=df.loc[df['city'] == 'Hamilton']\n",
    "df_box_manhattan=df.loc[df['city'] == 'Manhattan']\n",
    "df_box_San_Morcos=df.loc[df['city']==\"San Marcos\"]\n",
    "df_box_Danville=df.loc[df['city'] == 'Danville']\n",
    "df_box_Las_Vegas=df.loc[df['city'] == 'Las Vegas']\n",
    "df_box_city=pd.concat([df_box_hamilton,df_box_manhattan,df_box_San_Morcos,df_box_Danville,df_box_Las_Vegas])\n",
    "df_box_city.head(4)"
   ]
  },
  {
   "cell_type": "code",
   "execution_count": null,
   "id": "c5c5ad13",
   "metadata": {},
   "outputs": [],
   "source": [
    "plt.figure(figsize=(10,5))\n",
    "sns.boxplot(data=df_box_city,x='second_mortgage', y='city',width=0.5,palette=\"Set3\")\n",
    "plt.show()"
   ]
  },
  {
   "cell_type": "code",
   "execution_count": null,
   "id": "933a9a4f",
   "metadata": {},
   "outputs": [],
   "source": [
    "plt.figure(figsize=(10,5))\n",
    "sns.boxplot(data=df_box_city,x='home_equity', y='city',width=0.5,palette=\"Set3\")\n",
    "plt.show()"
   ]
  },
  {
   "cell_type": "code",
   "execution_count": null,
   "id": "160ee542",
   "metadata": {},
   "outputs": [],
   "source": [
    "plt.figure(figsize=(10,5))\n",
    "sns.boxplot(data=df_box_city,x='debt', y='city',width=0.5,palette=\"Set3\")\n",
    "plt.show()"
   ]
  },
  {
   "cell_type": "code",
   "execution_count": null,
   "id": "9d36641b",
   "metadata": {},
   "outputs": [],
   "source": [
    "plt.figure(figsize=(10,5))\n",
    "sns.boxplot(data=df_box_city,x='bad_debt', y='city',width=0.5,palette=\"Set3\")\n",
    "plt.show()"
   ]
  },
  {
   "cell_type": "markdown",
   "id": "c7161fa3",
   "metadata": {},
   "source": [
    "## e)Create a collated income distribution chart for family income, house hold income, and remaining income"
   ]
  },
  {
   "cell_type": "code",
   "execution_count": null,
   "id": "2240c544",
   "metadata": {},
   "outputs": [],
   "source": [
    "sns.distplot(df['family_mean'])\n",
    "plt.title('Family income distribution chart')\n",
    "plt.show()"
   ]
  },
  {
   "cell_type": "code",
   "execution_count": null,
   "id": "aee8f97b",
   "metadata": {},
   "outputs": [],
   "source": []
  },
  {
   "cell_type": "code",
   "execution_count": null,
   "id": "57be7c37",
   "metadata": {},
   "outputs": [],
   "source": [
    "sns.distplot(df['hi_mean'])\n",
    "plt.title('Household income distribution chart')\n",
    "plt.show()"
   ]
  },
  {
   "cell_type": "code",
   "execution_count": null,
   "id": "9e4b366c",
   "metadata": {},
   "outputs": [],
   "source": [
    "df[\"R_income\"]=df[\"family_mean\"]-df[\"hi_mean\"]"
   ]
  },
  {
   "cell_type": "code",
   "execution_count": null,
   "id": "316e77c4",
   "metadata": {},
   "outputs": [],
   "source": [
    "sns.distplot(df[\"R_income\"])\n",
    "plt.title('Remaining income distribution chart')\n",
    "plt.show()"
   ]
  },
  {
   "cell_type": "code",
   "execution_count": null,
   "id": "2f1c093d",
   "metadata": {},
   "outputs": [],
   "source": []
  },
  {
   "cell_type": "markdown",
   "id": "5f3b948b",
   "metadata": {},
   "source": [
    "# Project Task: Week 2"
   ]
  },
  {
   "cell_type": "markdown",
   "id": "b079d460",
   "metadata": {},
   "source": [
    "## Exploratory Data Analysis (EDA):"
   ]
  },
  {
   "cell_type": "markdown",
   "id": "b8befdfd",
   "metadata": {},
   "source": [
    "### 1) Perform EDA and come out with insights into population density and age. You may have to derive new fields (make sure to weight averages for accurate measurements):"
   ]
  },
  {
   "cell_type": "code",
   "execution_count": null,
   "id": "8a30860b",
   "metadata": {},
   "outputs": [],
   "source": [
    "df[\"Pop_mean\"]=(df['male_pop']+df['female_pop'])/df['pop']"
   ]
  },
  {
   "cell_type": "code",
   "execution_count": null,
   "id": "b9fbaba1",
   "metadata": {},
   "outputs": [],
   "source": [
    "#plt.figure(figsize=(25,10))\n",
    "fig,(ax1,ax2,ax3,ax4)=plt.subplots(4,1)\n",
    "sns.distplot(df['pop'],ax=ax1)\n",
    "sns.distplot(df['male_pop'],ax=ax2)\n",
    "sns.distplot(df['female_pop'],ax=ax3)\n",
    "sns.distplot(df[\"Pop_mean\"],ax=ax4)\n",
    "plt.subplots_adjust(wspace=0.8,hspace=0.8)\n",
    "plt.tight_layout()\n",
    "plt.show()"
   ]
  },
  {
   "cell_type": "code",
   "execution_count": null,
   "id": "8a33d230",
   "metadata": {},
   "outputs": [],
   "source": [
    "#plt.figure(figsize=(25,10))\n",
    "fig,(ax1,ax2)=plt.subplots(2,1)\n",
    "sns.distplot(df['male_age_mean'],ax=ax1)\n",
    "sns.distplot(df['female_age_mean'],ax=ax2)\n",
    "plt.subplots_adjust(wspace=0.8,hspace=0.8)\n",
    "plt.tight_layout()\n",
    "plt.show()"
   ]
  },
  {
   "cell_type": "markdown",
   "id": "c8a0cfaa",
   "metadata": {},
   "source": [
    "\n",
    "## a) Use pop and ALand variables to create a new field called population density"
   ]
  },
  {
   "cell_type": "code",
   "execution_count": null,
   "id": "56b32b73",
   "metadata": {},
   "outputs": [],
   "source": [
    "\n",
    "df['pop_density']=df['pop']/df['ALand']"
   ]
  },
  {
   "cell_type": "code",
   "execution_count": null,
   "id": "0174fc1e",
   "metadata": {},
   "outputs": [],
   "source": []
  },
  {
   "cell_type": "code",
   "execution_count": null,
   "id": "809fc568",
   "metadata": {},
   "outputs": [],
   "source": [
    "sns.distplot(df['pop_density'])\n",
    "plt.title('Population Density')\n",
    "plt.show() "
   ]
  },
  {
   "cell_type": "markdown",
   "id": "f481b33a",
   "metadata": {},
   "source": [
    "## b)Use male_age_median, female_age_median, male_pop, and female_pop to create a new field called median age c) Visualize the findings using appropriate chart type"
   ]
  },
  {
   "cell_type": "code",
   "execution_count": null,
   "id": "36103472",
   "metadata": {},
   "outputs": [],
   "source": [
    "df['age_median']=(df['male_age_median']+df['female_age_median'])/2\n"
   ]
  },
  {
   "cell_type": "code",
   "execution_count": null,
   "id": "b04ed347",
   "metadata": {},
   "outputs": [],
   "source": [
    "\n",
    "df[['male_age_median','female_age_median','male_pop','female_pop','age_median']].head()"
   ]
  },
  {
   "cell_type": "code",
   "execution_count": null,
   "id": "35a1e113",
   "metadata": {},
   "outputs": [],
   "source": [
    "sns.distplot(df['age_median'])\n",
    "plt.title('Median Age')\n",
    "plt.show()\n"
   ]
  },
  {
   "cell_type": "markdown",
   "id": "da717d15",
   "metadata": {},
   "source": [
    "- Age of population is mostly between 20 and 60\n",
    "- Majority are of age around 40\n",
    "- Median age distribution has a gaussian distribution\n",
    "- Some right skewness is noticed"
   ]
  },
  {
   "cell_type": "code",
   "execution_count": null,
   "id": "84446ec2",
   "metadata": {},
   "outputs": [],
   "source": [
    "sns.boxplot(df['age_median'])\n",
    "plt.title('Population Density')\n",
    "plt.show() "
   ]
  },
  {
   "cell_type": "markdown",
   "id": "7a687998",
   "metadata": {},
   "source": [
    "### 2) Create bins for population into a new variable by selecting appropriate class interval so that the number of categories don’t exceed 5 for the ease of analysis."
   ]
  },
  {
   "cell_type": "code",
   "execution_count": null,
   "id": "7859fa3e",
   "metadata": {},
   "outputs": [],
   "source": [
    "df['pop'].describe()"
   ]
  },
  {
   "cell_type": "code",
   "execution_count": null,
   "id": "093cf833",
   "metadata": {},
   "outputs": [],
   "source": [
    "df['pop_bins']=pd.cut(df['pop'],bins=5,labels=['very low','low','medium','high','very high'])"
   ]
  },
  {
   "cell_type": "code",
   "execution_count": null,
   "id": "1d118537",
   "metadata": {},
   "outputs": [],
   "source": [
    "df[['pop','pop_bins']]"
   ]
  },
  {
   "cell_type": "markdown",
   "id": "61abb19d",
   "metadata": {},
   "source": [
    "### a) Analyze the married, separated, and divorced population for these population brackets"
   ]
  },
  {
   "cell_type": "code",
   "execution_count": null,
   "id": "3317f246",
   "metadata": {},
   "outputs": [],
   "source": [
    "df.groupby(df['pop_bins'])[['married','separated','divorced']].count()"
   ]
  },
  {
   "cell_type": "code",
   "execution_count": null,
   "id": "3f2a0e69",
   "metadata": {},
   "outputs": [],
   "source": [
    "df.groupby(by='pop_bins')[['married','separated','divorced']].agg([\"mean\", \"median\"])"
   ]
  },
  {
   "cell_type": "markdown",
   "id": "c4a74356",
   "metadata": {},
   "source": [
    "### Visualize using appropriate chart type"
   ]
  },
  {
   "cell_type": "code",
   "execution_count": null,
   "id": "015efa74",
   "metadata": {},
   "outputs": [],
   "source": [
    "plt.figure(figsize=(10,5))\n",
    "pop_bin_married=df.groupby(by='pop_bins')[['married','separated','divorced']].agg([\"mean\"])\n",
    "pop_bin_married.plot(figsize=(20,8))\n",
    "plt.legend(loc='best')\n",
    "plt.show()"
   ]
  },
  {
   "cell_type": "markdown",
   "id": "91cf2177",
   "metadata": {},
   "source": [
    "### Please detail your observations for rent as a percentage of income at an overall level, and for different states."
   ]
  },
  {
   "cell_type": "code",
   "execution_count": null,
   "id": "d8d53b76",
   "metadata": {},
   "outputs": [],
   "source": [
    "rent_state_mean=df.groupby(by='state')['rent_mean'].agg([\"mean\"])\n",
    "rent_state_mean.head()"
   ]
  },
  {
   "cell_type": "code",
   "execution_count": null,
   "id": "286bb8f2",
   "metadata": {},
   "outputs": [],
   "source": [
    "income_state_mean=df.groupby(by='state')['family_mean'].agg([\"mean\"])\n",
    "income_state_mean.head()"
   ]
  },
  {
   "cell_type": "code",
   "execution_count": null,
   "id": "506666c4",
   "metadata": {},
   "outputs": [],
   "source": [
    "rent_perc_of_income=rent_state_mean['mean']/income_state_mean['mean']\n",
    "rent_perc_of_income.head(10)"
   ]
  },
  {
   "cell_type": "code",
   "execution_count": null,
   "id": "bc61aeab",
   "metadata": {},
   "outputs": [],
   "source": [
    "df1=df.describe(include=\"int\")"
   ]
  },
  {
   "cell_type": "code",
   "execution_count": null,
   "id": "463e536d",
   "metadata": {},
   "outputs": [],
   "source": [
    "df2=df.describe(include=\"float64\")"
   ]
  },
  {
   "cell_type": "code",
   "execution_count": null,
   "id": "5149d0d8",
   "metadata": {},
   "outputs": [],
   "source": [
    "df2.head()"
   ]
  },
  {
   "cell_type": "code",
   "execution_count": null,
   "id": "9e452838",
   "metadata": {},
   "outputs": [],
   "source": [
    "df1"
   ]
  },
  {
   "cell_type": "code",
   "execution_count": null,
   "id": "d1be46e9",
   "metadata": {},
   "outputs": [],
   "source": [
    "from sklearn.impute import SimpleImputer\n",
    "imputer = SimpleImputer(missing_values=np.nan, strategy='mean')\n",
    "imputer = imputer.fit(df1)\n",
    "  \n",
    "X = imputer.transform(df1)\n",
    "print(df1)"
   ]
  },
  {
   "cell_type": "code",
   "execution_count": null,
   "id": "b671b35c",
   "metadata": {},
   "outputs": [],
   "source": [
    "df1.isnull().sum()"
   ]
  },
  {
   "cell_type": "code",
   "execution_count": null,
   "id": "969fa153",
   "metadata": {},
   "outputs": [],
   "source": [
    "df2.isnull().sum()"
   ]
  },
  {
   "cell_type": "code",
   "execution_count": null,
   "id": "b1217b36",
   "metadata": {},
   "outputs": [],
   "source": [
    "from sklearn.impute import SimpleImputer\n",
    "imputer = SimpleImputer(missing_values=np.nan, strategy='mean')\n",
    "imputer = imputer.fit(df2)\n",
    "  \n",
    "X = imputer.transform(df2)\n",
    "print(df2)"
   ]
  },
  {
   "cell_type": "code",
   "execution_count": null,
   "id": "5f983a0a",
   "metadata": {},
   "outputs": [],
   "source": [
    "df2['rent_mean'].isnull().sum(axis=0)"
   ]
  },
  {
   "cell_type": "code",
   "execution_count": null,
   "id": "b9d659b7",
   "metadata": {},
   "outputs": [],
   "source": [
    "df2['family_mean'].isnull().sum()"
   ]
  },
  {
   "cell_type": "code",
   "execution_count": null,
   "id": "081fe4d9",
   "metadata": {},
   "outputs": [],
   "source": [
    "#overall level rent as a percentage of income\n",
    "sum(df2['rent_mean'])/sum(df2['family_mean'])"
   ]
  },
  {
   "cell_type": "markdown",
   "id": "bc6ad2b9",
   "metadata": {},
   "source": [
    "### 4 )Perform correlation analysis for all the relevant variables by creating a heatmap. Describe your findings."
   ]
  },
  {
   "cell_type": "code",
   "execution_count": null,
   "id": "b645d249",
   "metadata": {},
   "outputs": [],
   "source": [
    "df.columns"
   ]
  },
  {
   "cell_type": "code",
   "execution_count": null,
   "id": "5051a9b5",
   "metadata": {},
   "outputs": [],
   "source": [
    "cor=df[['COUNTYID','STATEID','zip_code','type','pop', 'family_mean',\n",
    "         'second_mortgage', 'home_equity', 'debt','hs_degree',\n",
    "           'age_median','pct_own', 'married','separated', 'divorced']].corr()"
   ]
  },
  {
   "cell_type": "code",
   "execution_count": null,
   "id": "3e229537",
   "metadata": {},
   "outputs": [],
   "source": [
    "plt.figure(figsize=(20,10))\n",
    "sns.heatmap(cor,annot=True,cmap='coolwarm')\n",
    "plt.show()"
   ]
  },
  {
   "cell_type": "code",
   "execution_count": null,
   "id": "901310a1",
   "metadata": {},
   "outputs": [],
   "source": []
  },
  {
   "cell_type": "markdown",
   "id": "39c4d029",
   "metadata": {},
   "source": [
    "# Project Task: Week 3\n",
    "## Data Pre-processing:"
   ]
  },
  {
   "cell_type": "markdown",
   "id": "6cc3c7a1",
   "metadata": {},
   "source": [
    "#### 1. The economic multivariate data has a significant number of measured variables. The goal is to find where the measured variables depend on a number of smaller unobserved common factors or latent variables. 2. Each variable is assumed to be dependent upon a linear combination of the common factors, and the coefficients are known as loadings. Each measured variable also includes a component due to independent      random variability, known as “specific variance” because it is specific to one variable. Obtain the common factors and then plot the loadings. Use factor analysis to find latent variables in our dataset and gain          insight into the linear relationships in the data. Following are the list of latent variables:\n",
    "\n",
    "• Highschool graduation rates\n",
    "\n",
    "• Median population age\n",
    "\n",
    "• Second mortgage statistics\n",
    "\n",
    "• Percent own\n",
    "\n",
    "• Bad debt expense\n",
    "\n",
    " "
   ]
  },
  {
   "cell_type": "code",
   "execution_count": null,
   "id": "4da223a3",
   "metadata": {},
   "outputs": [],
   "source": [
    "pip install factor_analyzer"
   ]
  },
  {
   "cell_type": "code",
   "execution_count": null,
   "id": "6d75999a",
   "metadata": {},
   "outputs": [],
   "source": [
    "from sklearn.decomposition import FactorAnalysis\n",
    "from factor_analyzer import FactorAnalyzer"
   ]
  },
  {
   "cell_type": "code",
   "execution_count": null,
   "id": "b2fcb3bc",
   "metadata": {},
   "outputs": [],
   "source": [
    "\n",
    "fa=FactorAnalyzer(n_factors=5)\n",
    "fa.fit_transform(df2.select_dtypes(exclude= ('object','category')))\n",
    "fa.loadings_"
   ]
  },
  {
   "cell_type": "code",
   "execution_count": null,
   "id": "67e41f52",
   "metadata": {},
   "outputs": [],
   "source": [
    "## Data Modeling : Linear Regression"
   ]
  },
  {
   "cell_type": "code",
   "execution_count": null,
   "id": "06cdadf1",
   "metadata": {},
   "outputs": [],
   "source": [
    "df.columns"
   ]
  },
  {
   "cell_type": "code",
   "execution_count": null,
   "id": "4598c5a8",
   "metadata": {},
   "outputs": [],
   "source": [
    "df['type'].unique()"
   ]
  },
  {
   "cell_type": "code",
   "execution_count": null,
   "id": "b7d6ace6",
   "metadata": {},
   "outputs": [],
   "source": [
    "type_dict={'type':{'City':1, \n",
    "                   'Urban':2, \n",
    "                   'Town':3, \n",
    "                   'CDP':4, \n",
    "                   'Village':5, \n",
    "                   'Borough':6}\n",
    "          }\n",
    "df.replace(type_dict,inplace=True)"
   ]
  },
  {
   "cell_type": "code",
   "execution_count": null,
   "id": "8c62dd0c",
   "metadata": {},
   "outputs": [],
   "source": [
    "df['type'].unique()"
   ]
  },
  {
   "cell_type": "code",
   "execution_count": null,
   "id": "2f583b4f",
   "metadata": {},
   "outputs": [],
   "source": [
    "feature_cols=['COUNTYID','STATEID','zip_code','type','pop', 'family_mean',\n",
    "         'second_mortgage', 'home_equity', 'debt','hs_degree',\n",
    "           'pct_own', 'married','separated', 'divorced']"
   ]
  },
  {
   "cell_type": "code",
   "execution_count": null,
   "id": "e7d852ab",
   "metadata": {},
   "outputs": [],
   "source": [
    "from sklearn.model_selection import train_test_split"
   ]
  },
  {
   "cell_type": "code",
   "execution_count": null,
   "id": "cba17c19",
   "metadata": {},
   "outputs": [],
   "source": [
    "X = df[feature_cols]\n",
    "y = df['hc_mortgage_mean']"
   ]
  },
  {
   "cell_type": "code",
   "execution_count": null,
   "id": "30c3332f",
   "metadata": {},
   "outputs": [],
   "source": [
    "X_train,X_test,y_train,y_test=train_test_split(X,y,random_state=100,train_size=0.8)"
   ]
  },
  {
   "cell_type": "code",
   "execution_count": null,
   "id": "55dcabd9",
   "metadata": {},
   "outputs": [],
   "source": [
    "print(X_train.shape)\n",
    "print(y_train.shape)\n",
    "print(X_test.shape)\n",
    "print(y_test.shape)"
   ]
  },
  {
   "cell_type": "code",
   "execution_count": null,
   "id": "385fe226",
   "metadata": {},
   "outputs": [],
   "source": [
    "from sklearn.preprocessing import StandardScaler\n",
    "from sklearn.linear_model import LinearRegression\n",
    "from sklearn.metrics import r2_score, mean_absolute_error,mean_squared_error,accuracy_score"
   ]
  },
  {
   "cell_type": "code",
   "execution_count": null,
   "id": "d4d677da",
   "metadata": {},
   "outputs": [],
   "source": [
    "X.head()"
   ]
  },
  {
   "cell_type": "code",
   "execution_count": null,
   "id": "5195e0bf",
   "metadata": {},
   "outputs": [],
   "source": [
    "sc=StandardScaler()\n",
    "X_train_scaled=sc.fit_transform(X_train)\n",
    "X_test_scaled=sc.fit_transform(X_test)"
   ]
  },
  {
   "cell_type": "code",
   "execution_count": null,
   "id": "c1f3ea48",
   "metadata": {},
   "outputs": [],
   "source": [
    "sc.mean_"
   ]
  },
  {
   "cell_type": "code",
   "execution_count": null,
   "id": "82e33d1b",
   "metadata": {},
   "outputs": [],
   "source": [
    "X_train_scaled"
   ]
  },
  {
   "cell_type": "code",
   "execution_count": null,
   "id": "3525f84b",
   "metadata": {},
   "outputs": [],
   "source": [
    "X_train_scaled=pd.DataFrame(X_train_scaled,columns=X_train.columns)\n",
    "X_test_scaled=pd.DataFrame(X_test_scaled,columns=X_test.columns)"
   ]
  },
  {
   "cell_type": "markdown",
   "id": "8d7800e7",
   "metadata": {},
   "source": [
    "#### Run a model at a Nation level. If the accuracy levels and R square are not satisfactory proceed to below step."
   ]
  },
  {
   "cell_type": "code",
   "execution_count": null,
   "id": "2bc62ebf",
   "metadata": {},
   "outputs": [],
   "source": [
    "linereg=LinearRegression()\n",
    "linereg.fit(X_train_scaled,y_train)"
   ]
  },
  {
   "cell_type": "code",
   "execution_count": null,
   "id": "40375023",
   "metadata": {},
   "outputs": [],
   "source": [
    "y_pred=linereg.predict(X_test_scaled)"
   ]
  },
  {
   "cell_type": "code",
   "execution_count": null,
   "id": "536d03fc",
   "metadata": {},
   "outputs": [],
   "source": [
    "print(\"Overall R2 score of linear regression model\", r2_score(y_test,y_pred))\n",
    "print(\"Overall RMSE of linear regression model\", np.sqrt(mean_squared_error(y_test,y_pred)))"
   ]
  },
  {
   "cell_type": "code",
   "execution_count": null,
   "id": "d52c8a5b",
   "metadata": {},
   "outputs": [],
   "source": [
    "### Run another model at State level. There are 52 states in USA"
   ]
  },
  {
   "cell_type": "code",
   "execution_count": null,
   "id": "7ef69f3e",
   "metadata": {},
   "outputs": [],
   "source": [
    "state=df['STATEID'].unique()"
   ]
  },
  {
   "cell_type": "code",
   "execution_count": null,
   "id": "32785c31",
   "metadata": {},
   "outputs": [],
   "source": [
    "state[0:5]\n",
    "#Picking a few iDs 20,1,45,6"
   ]
  },
  {
   "cell_type": "code",
   "execution_count": null,
   "id": "f26b31c6",
   "metadata": {},
   "outputs": [],
   "source": [
    "for i in [20,1,45]:\n",
    "    print(\"State ID-\",i)\n",
    "    \n",
    "    X_train_nation=df[df['COUNTYID']==i][feature_cols]\n",
    "    y_train_nation=df[df['COUNTYID']==i]['hc_mortgage_mean']\n",
    "    \n",
    "    X_test_nation=df[df['COUNTYID']==i][feature_cols]\n",
    "    y_test_nation=df[df['COUNTYID']==i]['hc_mortgage_mean']\n",
    "    \n",
    "    X_train_scaled_nation=sc.fit_transform(X_train_nation)\n",
    "    X_test_scaled_nation=sc.fit_transform(X_test_nation)\n",
    "    \n",
    "    linereg.fit(X_train_scaled_nation,y_train_nation)\n",
    "    y_pred_nation=linereg.predict(X_test_scaled_nation)\n",
    "    \n",
    "    print(\"Overall R2 score of linear regression model for state,\",i,\":-\" ,r2_score(y_test_nation,y_pred_nation))\n",
    "    print(\"Overall RMSE of linear regression model for state,\",i,\":-\" ,np.sqrt(mean_squared_error(y_test_nation,y_pred_nation)))\n",
    "    print(\"\\n\")"
   ]
  },
  {
   "cell_type": "code",
   "execution_count": null,
   "id": "12b303e9",
   "metadata": {},
   "outputs": [],
   "source": [
    "residuals=y_test-y_pred\n",
    "residuals"
   ]
  },
  {
   "cell_type": "code",
   "execution_count": null,
   "id": "bf4679af",
   "metadata": {},
   "outputs": [],
   "source": [
    "plt.hist(residuals) # Normal distribution of residuals"
   ]
  },
  {
   "cell_type": "code",
   "execution_count": null,
   "id": "27b78511",
   "metadata": {},
   "outputs": [],
   "source": [
    "sns.distplot(residuals)"
   ]
  },
  {
   "cell_type": "code",
   "execution_count": null,
   "id": "f3aaf703",
   "metadata": {},
   "outputs": [],
   "source": [
    "plt.scatter(residuals,y_pred) # Same variance and residuals does not have correlation with predictor\n",
    "# Independance of residuals"
   ]
  },
  {
   "cell_type": "code",
   "execution_count": null,
   "id": "75f37393",
   "metadata": {},
   "outputs": [],
   "source": []
  },
  {
   "cell_type": "markdown",
   "id": "9b5c436f",
   "metadata": {},
   "source": [
    "# Tableau Link :-\n",
    "    "
   ]
  },
  {
   "cell_type": "code",
   "execution_count": null,
   "id": "a02af5f1",
   "metadata": {},
   "outputs": [],
   "source": [
    "https://public.tableau.com/app/profile/shubham8589/viz/CapstoneProj-01/Dashboard1?publish=yes\n",
    "    "
   ]
  },
  {
   "cell_type": "code",
   "execution_count": null,
   "id": "6d90b5a7",
   "metadata": {},
   "outputs": [],
   "source": []
  },
  {
   "cell_type": "code",
   "execution_count": null,
   "id": "42e72f12",
   "metadata": {},
   "outputs": [],
   "source": []
  }
 ],
 "metadata": {
  "kernelspec": {
   "display_name": "Python 3 (ipykernel)",
   "language": "python",
   "name": "python3"
  },
  "language_info": {
   "codemirror_mode": {
    "name": "ipython",
    "version": 3
   },
   "file_extension": ".py",
   "mimetype": "text/x-python",
   "name": "python",
   "nbconvert_exporter": "python",
   "pygments_lexer": "ipython3",
   "version": "3.9.13"
  }
 },
 "nbformat": 4,
 "nbformat_minor": 5
}
